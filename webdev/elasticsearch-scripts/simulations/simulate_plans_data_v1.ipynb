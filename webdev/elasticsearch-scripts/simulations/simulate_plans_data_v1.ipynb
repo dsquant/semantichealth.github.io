{
 "cells": [
  {
   "cell_type": "markdown",
   "metadata": {},
   "source": [
    "# Simulate Plans Data"
   ]
  },
  {
   "cell_type": "code",
   "execution_count": 1,
   "metadata": {
    "collapsed": false
   },
   "outputs": [],
   "source": [
    "import numpy as np\n",
    "import json\n",
    "import requests\n",
    "import us\n",
    "from elasticsearch import Elasticsearch\n",
    "from faker import Factory"
   ]
  },
  {
   "cell_type": "code",
   "execution_count": 2,
   "metadata": {
    "collapsed": true
   },
   "outputs": [],
   "source": [
    "# Elasticsearch instance (hosted on AWS EC2)\n",
    "es = Elasticsearch('http://ec2-54-215-248-141.us-west-1.compute.amazonaws.com:9200')"
   ]
  },
  {
   "cell_type": "markdown",
   "metadata": {},
   "source": [
    "### Generate Simulated Data"
   ]
  },
  {
   "cell_type": "code",
   "execution_count": 16,
   "metadata": {
    "collapsed": true
   },
   "outputs": [],
   "source": [
    "# Simulate some data for testing"
   ]
  },
  {
   "cell_type": "code",
   "execution_count": 13,
   "metadata": {
    "collapsed": true
   },
   "outputs": [],
   "source": [
    "def simulate_data(output_path):\n",
    "    '''\n",
    "    Simulate healthcare plans data in json format\n",
    "    '''\n",
    "    # Create fake names generator\n",
    "    fake = Factory.create()\n",
    "    fake.seed(1)\n",
    "    np.random.seed(1)\n",
    "    # Set parameters\n",
    "    N = 10000\n",
    "    n_providers_pool = 50\n",
    "    n_providers_per_plan = 10\n",
    "    # Initial data pool\n",
    "    levels = [\"Platinum\", \"Gold\", \"Silver\", \"Bronze\", \"Catastrophic\"]\n",
    "    states = us.states.mapping('abbr', 'name').keys()\n",
    "    providers_pool = [fake.name() for i in range(n_providers_pool)]\n",
    "    \n",
    "    # Simulate data points\n",
    "    plan_name_list = [fake.company() for i in range(N)]\n",
    "    premium_array = np.random.normal(loc=100, scale=15, size=N)\n",
    "    level_array = np.random.choice(levels, size=N)\n",
    "    url_list = [fake.url() for i in range(N)]\n",
    "    state_array = np.random.choice(states, size=N)\n",
    "    providers_list = [list(np.random.choice(providers_pool, size=n_providers_per_plan, replace=False))\n",
    "                      for i in range(N)]\n",
    "    \n",
    "    # Combine columns\n",
    "    result = [dict(plan_name = plan_name_list[i],\n",
    "                   premium = premium_array[i],\n",
    "                   level = level_array[i],\n",
    "                   url = url_list[i],\n",
    "                   state = state_array[i],\n",
    "                   providers = providers_list[i],\n",
    "                   weights = \n",
    "                  ) for i in range(N)]\n",
    "    json.dump(result, open(output_path, \"w\"), indent=2)"
   ]
  },
  {
   "cell_type": "code",
   "execution_count": 14,
   "metadata": {
    "collapsed": false,
    "scrolled": true
   },
   "outputs": [],
   "source": [
    "simulate_data(\"sim_plans_data.json\")"
   ]
  },
  {
   "cell_type": "code",
   "execution_count": 18,
   "metadata": {
    "collapsed": false
   },
   "outputs": [
    {
     "name": "stdout",
     "output_type": "stream",
     "text": [
      "[\r\n",
      "  {\r\n",
      "    \"state\": \"ND\", \r\n",
      "    \"premium\": 124.36518045494863, \r\n",
      "    \"level\": \"Silver\", \r\n",
      "    \"url\": \"http://www.tremblay.com/\", \r\n",
      "    \"providers\": [\r\n",
      "      \"Jamal Barrows Jr.\", \r\n",
      "      \"Clinton Brekke PhD\", \r\n",
      "      \"Mr. Eusebio Leuschke V\", \r\n",
      "      \"Patrice Leannon\", \r\n",
      "      \"Winnifred Medhurst\", \r\n",
      "      \"Dr. Raelynn Schumm\", \r\n",
      "      \"Mortimer Kling\", \r\n",
      "      \"Chauncey Kutch DVM\", \r\n",
      "      \"Jessenia Barrows\", \r\n",
      "      \"Kyra Erdman\"\r\n",
      "    ], \r\n",
      "    \"plan_name\": \"Gutmann, Stokes and Hackett\"\r\n",
      "  }, \r\n",
      "  {\r\n",
      "    \"state\": \"CT\", \r\n",
      "    \"premium\": 90.823653795248873, \r\n",
      "    \"level\": \"Catastrophic\", \r\n",
      "    \"url\": \"http://cummings.com/\", \r\n",
      "    \"providers\": [\r\n",
      "      \"Kristin Stokes\", \r\n",
      "      \"Dr. Raelynn Schumm\", \r\n",
      "      \"Phyliss Botsford\", \r\n",
      "      \"Dr. Keanna Ernser PhD\", \r\n",
      "      \"Casey Purdy\", \r\n",
      "      \"Dedrick Schmeler\", \r\n",
      "      \"Velia Abshire\", \r\n",
      "      \"Mrs. Alanna Corkery\", \r\n",
      "      \"Rhoda Larson\", \r\n",
      "      \"Ms. Creola Johnston MD\"\r\n",
      "    ], \r\n",
      "    \"plan_name\": \"Roberts, Jerde and Fritsch\"\r\n",
      "  }, \r\n",
      "  {\r\n",
      "    \"state\": \"RI\", \r\n",
      "    \"premium\": 92.077423716048159, \r\n",
      "    \"level\": \"Catastrophic\", \r\n",
      "    \"url\": \"http://www.mitchell-dietrich.biz/\", \r\n",
      "    \"providers\": [\r\n",
      "      \"Mr. Alexzander Hoppe\", \r\n",
      "      \"Darryl Emmerich\", \r\n",
      "      \"Haywood Kunde\", \r\n",
      "      \"Mrs. Alanna Corkery\", \r\n",
      "      \"Abigayle Kihn\", \r\n",
      "      \"Contina Moen\", \r\n",
      "      \"Jiles Cummings\", \r\n",
      "      \"Florance Bernhard\", \r\n",
      "      \"Dr. Keanna Ernser PhD\", \r\n",
      "      \"Mrs. Evette Reichert\"\r\n",
      "    ], \r\n",
      "    \"plan_name\": \"Thiel Inc\"\r\n",
      "  }, \r\n",
      "  {\r\n",
      "    \"state\": \"PI\", \r\n",
      "    \"premium\": 83.90547066765744, \r\n",
      "    \"level\": \"Silver\", \r\n",
      "    \"url\": \"http://www.rice.biz/\", \r\n",
      "    \"providers\": [\r\n",
      "      \"Delois Brekke\", \r\n",
      "      \"Phyliss Botsford\", \r\n",
      "      \"Rosanna Torphy\", \r\n",
      "      \"Mrs. Evette Reichert\", \r\n",
      "      \"Jessika Gleichner\", \r\n",
      "      \"Jaquez King\", \r\n",
      "      \"Rhoda Larson\", \r\n",
      "      \"Casey Purdy\", \r\n",
      "      \"Haywood Kunde\", \r\n",
      "      \"Mrs. Alanna Corkery\"\r\n",
      "    ], \r\n",
      "    \"plan_name\": \"Windler, Marks and D'Amore\"\r\n",
      "  }, \r\n",
      "  {\r\n",
      "    \"state\": \"FL\", \r\n",
      "    \"premium\": 112.98111443987018, \r\n",
      "    \"level\": \"Gold\", \r\n",
      "    \"url\": \"http://www.kulas.net/\", \r\n",
      "    \"providers\": [\r\n",
      "      \"Jennings Wilderman\", \r\n",
      "      \"Mrs. Evette Reichert\", \r\n",
      "      \"Ms. Creola Johnston MD\", \r\n",
      "      \"Clinton Brekke PhD\", \r\n",
      "      \"Kristin Stokes\", \r\n",
      "      \"Alisson Balistreri PhD\", \r\n",
      "      \"Dr. Raelynn Schumm\", \r\n",
      "      \"Alan Ankunding\", \r\n",
      "      \"Dedrick Schmeler\", \r\n",
      "      \"Daniella West\"\r\n",
      "    ], \r\n",
      "    \"plan_name\": \"Wiza, Purdy and Lakin\"\r\n",
      "  }, \r\n",
      "  {\r\n",
      "    \"state\": \"OH\", \r\n",
      "    \"premium\": 65.476919546795756, \r\n",
      "    \"level\": \"Bronze\", \r\n"
     ]
    }
   ],
   "source": [
    "!head -n100 sim_plans_data.json"
   ]
  },
  {
   "cell_type": "markdown",
   "metadata": {},
   "source": [
    "### Define ES Mapping"
   ]
  },
  {
   "cell_type": "code",
   "execution_count": 17,
   "metadata": {
    "collapsed": true
   },
   "outputs": [],
   "source": [
    "# Create Elasticsearch mapping"
   ]
  },
  {
   "cell_type": "markdown",
   "metadata": {},
   "source": [
    "Index: Data  \n",
    "Type: Plans  \n",
    "Fields:  \n",
    "- plan_name (string, raw)\n",
    "- premium (number)\n",
    "- level (string, raw)\n",
    "- url (string, raw)\n",
    "- state (string, non-analyzed)\n",
    "- providers (string, raw)"
   ]
  },
  {
   "cell_type": "code",
   "execution_count": 4,
   "metadata": {
    "collapsed": false
   },
   "outputs": [
    {
     "name": "stdout",
     "output_type": "stream",
     "text": [
      "{\"error\":{\"root_cause\":[{\"type\":\"index_not_found_exception\",\"reason\":\"no such index\",\"index\":\"data\",\"resource.type\":\"index_or_alias\",\"resource.id\":\"data\"}],\"type\":\"index_not_found_exception\",\"reason\":\"no such index\",\"index\":\"data\",\"resource.type\":\"index_or_alias\",\"resource.id\":\"data\"},\"status\":404}"
     ]
    }
   ],
   "source": [
    "!curl -XDELETE 'http://ec2-54-215-248-141.us-west-1.compute.amazonaws.com:9200/data'"
   ]
  },
  {
   "cell_type": "code",
   "execution_count": 3,
   "metadata": {
    "collapsed": false
   },
   "outputs": [],
   "source": [
    "def define_plan_mappings(es):\n",
    "    # Elasticsearch path\n",
    "    host = 'http://localhost:9200'\n",
    "    index = 'data'\n",
    "    doc_type = 'plan'\n",
    "    url = '/'.join((host, index))\n",
    "    # Put settings\n",
    "    settings = {\n",
    "        \"settings\": {\n",
    "            \"index\": {\n",
    "                \"number_of_shards\" : 5,\n",
    "                \"number_of_replicas\" : 1                \n",
    "            }\n",
    "        },\n",
    "        \n",
    "        \"mappings\": {\n",
    "            doc_type: {\n",
    "                \"properties\": {\n",
    "                    \"plan_name\": {\n",
    "                        \"type\": \"string\",\n",
    "                        \"index\": \"analyzed\",\n",
    "                        \"fields\": {\n",
    "                            \"raw\": {\n",
    "                                \"type\": \"string\",\n",
    "                                \"index\": \"not_analyzed\"\n",
    "                            }\n",
    "                        }                    \n",
    "                    },\n",
    "\n",
    "                    \"premium\": {\n",
    "                        \"type\": \"float\"\n",
    "                    },\n",
    "\n",
    "                    \"level\": {\n",
    "                        \"type\": \"string\",\n",
    "                        \"index\": \"analyzed\",\n",
    "                        \"fields\": {\n",
    "                            \"raw\": {\n",
    "                                \"type\": \"string\",\n",
    "                                \"index\": \"not_analyzed\"\n",
    "                            }\n",
    "                        }                    \n",
    "                    },\n",
    "\n",
    "                    \"url\": {\n",
    "                        \"type\": \"string\",\n",
    "                        \"index\": \"not_analyzed\"\n",
    "                    },\n",
    "                    \n",
    "                    \"state\": {\n",
    "                        \"type\": \"string\",\n",
    "                        \"index\": \"not_analyzed\"\n",
    "                    },\n",
    "\n",
    "                    \"providers\": {\n",
    "                        \"type\": \"string\",\n",
    "                        \"index\": \"analyzed\",\n",
    "                        \"fields\": {\n",
    "                            \"raw\": {\n",
    "                                \"type\": \"string\",\n",
    "                                \"index\": \"not_analyzed\"\n",
    "                            }\n",
    "                        }                    \n",
    "                    }\n",
    "                }                                 \n",
    "            }    \n",
    "        }        \n",
    "    }\n",
    "    \n",
    "    # Define mappings in ES\n",
    "    es.indices.create(index=\"data\", body=settings)"
   ]
  },
  {
   "cell_type": "code",
   "execution_count": 5,
   "metadata": {
    "collapsed": true
   },
   "outputs": [],
   "source": [
    "define_plan_mappings(es)"
   ]
  },
  {
   "cell_type": "code",
   "execution_count": 6,
   "metadata": {
    "collapsed": false
   },
   "outputs": [
    {
     "name": "stdout",
     "output_type": "stream",
     "text": [
      "{\r\n",
      "  \"data\" : {\r\n",
      "    \"mappings\" : {\r\n",
      "      \"plan\" : {\r\n",
      "        \"properties\" : {\r\n",
      "          \"level\" : {\r\n",
      "            \"type\" : \"string\",\r\n",
      "            \"fields\" : {\r\n",
      "              \"raw\" : {\r\n",
      "                \"type\" : \"string\",\r\n",
      "                \"index\" : \"not_analyzed\"\r\n",
      "              }\r\n",
      "            }\r\n",
      "          },\r\n",
      "          \"plan_name\" : {\r\n",
      "            \"type\" : \"string\",\r\n",
      "            \"fields\" : {\r\n",
      "              \"raw\" : {\r\n",
      "                \"type\" : \"string\",\r\n",
      "                \"index\" : \"not_analyzed\"\r\n",
      "              }\r\n",
      "            }\r\n",
      "          },\r\n",
      "          \"premium\" : {\r\n",
      "            \"type\" : \"float\"\r\n",
      "          },\r\n",
      "          \"providers\" : {\r\n",
      "            \"type\" : \"string\",\r\n",
      "            \"fields\" : {\r\n",
      "              \"raw\" : {\r\n",
      "                \"type\" : \"string\",\r\n",
      "                \"index\" : \"not_analyzed\"\r\n",
      "              }\r\n",
      "            }\r\n",
      "          },\r\n",
      "          \"state\" : {\r\n",
      "            \"type\" : \"string\",\r\n",
      "            \"index\" : \"not_analyzed\"\r\n",
      "          },\r\n",
      "          \"url\" : {\r\n",
      "            \"type\" : \"string\",\r\n",
      "            \"index\" : \"not_analyzed\"\r\n",
      "          }\r\n",
      "        }\r\n",
      "      }\r\n",
      "    }\r\n",
      "  }\r\n",
      "}\r\n"
     ]
    }
   ],
   "source": [
    "!curl 'http://ec2-54-215-248-141.us-west-1.compute.amazonaws.com:9200/data/_mapping/plan?pretty'"
   ]
  },
  {
   "cell_type": "markdown",
   "metadata": {},
   "source": [
    "### Load Data"
   ]
  },
  {
   "cell_type": "code",
   "execution_count": 11,
   "metadata": {
    "collapsed": false
   },
   "outputs": [],
   "source": [
    "def load_data(input_path, es):\n",
    "    # Get data from file    \n",
    "    data = json.load(open(input_path))\n",
    "    # Add each plan\n",
    "    for i, plan in enumerate(data):\n",
    "        es.index(index='data', doc_type='plan', id=i, body=plan)"
   ]
  },
  {
   "cell_type": "code",
   "execution_count": 12,
   "metadata": {
    "collapsed": false
   },
   "outputs": [],
   "source": [
    "load_data(\"sim_plans_data.json\", es)"
   ]
  },
  {
   "cell_type": "code",
   "execution_count": 58,
   "metadata": {
    "collapsed": true
   },
   "outputs": [],
   "source": [
    "# Check data"
   ]
  },
  {
   "cell_type": "code",
   "execution_count": 13,
   "metadata": {
    "collapsed": false
   },
   "outputs": [
    {
     "name": "stdout",
     "output_type": "stream",
     "text": [
      "health status index pri rep docs.count docs.deleted store.size pri.store.size \r\n",
      "yellow open   data    5   1      10000            0      4.1mb          4.1mb \r\n"
     ]
    }
   ],
   "source": [
    "!curl 'http://ec2-54-215-248-141.us-west-1.compute.amazonaws.com:9200/_cat/indices?v'"
   ]
  },
  {
   "cell_type": "code",
   "execution_count": 14,
   "metadata": {
    "collapsed": false
   },
   "outputs": [
    {
     "name": "stdout",
     "output_type": "stream",
     "text": [
      "{\r\n",
      "  \"_index\" : \"data\",\r\n",
      "  \"_type\" : \"plan\",\r\n",
      "  \"_id\" : \"0\",\r\n",
      "  \"_version\" : 1,\r\n",
      "  \"found\" : true,\r\n",
      "  \"_source\" : {\r\n",
      "    \"premium\" : 124.36518045494863,\r\n",
      "    \"providers\" : [ \"Jamal Barrows Jr.\", \"Clinton Brekke PhD\", \"Mr. Eusebio Leuschke V\", \"Patrice Leannon\", \"Winnifred Medhurst\", \"Dr. Raelynn Schumm\", \"Mortimer Kling\", \"Chauncey Kutch DVM\", \"Jessenia Barrows\", \"Kyra Erdman\" ],\r\n",
      "    \"url\" : \"http://www.tremblay.com/\",\r\n",
      "    \"level\" : \"Silver\",\r\n",
      "    \"state\" : \"ND\",\r\n",
      "    \"plan_name\" : \"Gutmann, Stokes and Hackett\"\r\n",
      "  }\r\n",
      "}\r\n"
     ]
    }
   ],
   "source": [
    "!curl 'http://ec2-54-215-248-141.us-west-1.compute.amazonaws.com:9200/data/plan/0?pretty'"
   ]
  },
  {
   "cell_type": "code",
   "execution_count": 15,
   "metadata": {
    "collapsed": false,
    "scrolled": false
   },
   "outputs": [
    {
     "name": "stdout",
     "output_type": "stream",
     "text": [
      "{\r\n",
      "  \"took\" : 53,\r\n",
      "  \"timed_out\" : false,\r\n",
      "  \"_shards\" : {\r\n",
      "    \"total\" : 5,\r\n",
      "    \"successful\" : 5,\r\n",
      "    \"failed\" : 0\r\n",
      "  },\r\n",
      "  \"hits\" : {\r\n",
      "    \"total\" : 1,\r\n",
      "    \"max_score\" : 7.8855095,\r\n",
      "    \"hits\" : [ {\r\n",
      "      \"_index\" : \"data\",\r\n",
      "      \"_type\" : \"plan\",\r\n",
      "      \"_id\" : \"21\",\r\n",
      "      \"_score\" : 7.8855095,\r\n",
      "      \"_source\" : {\r\n",
      "        \"premium\" : 117.17085564759421,\r\n",
      "        \"providers\" : [ \"Claiborne McDermott\", \"Clinton Brekke PhD\", \"Jamal Barrows Jr.\", \"Velia Abshire\", \"Mr. Alessandro Smitham V\", \"Dedrick Schmeler\", \"Rosanna Torphy\", \"Jiles Cummings\", \"Dr. Raelynn Schumm\", \"Haywood Kunde\" ],\r\n",
      "        \"url\" : \"http://www.friesen.com/\",\r\n",
      "        \"level\" : \"Gold\",\r\n",
      "        \"state\" : \"ND\",\r\n",
      "        \"plan_name\" : \"Hirthe, Marks and Ernser\"\r\n",
      "      }\r\n",
      "    } ]\r\n",
      "  }\r\n",
      "}\r\n"
     ]
    }
   ],
   "source": [
    "!curl 'http://ec2-54-215-248-141.us-west-1.compute.amazonaws.com:9200/data/plan/_search?pretty' -d '{\\\n",
    "\"query\": {\\\n",
    "\"match\": {\\\n",
    "\"plan_name.raw\": \"Hirthe, Marks and Ernser\"}}}'"
   ]
  }
 ],
 "metadata": {
  "kernelspec": {
   "display_name": "Python [Root]",
   "language": "python",
   "name": "Python [Root]"
  },
  "language_info": {
   "codemirror_mode": {
    "name": "ipython",
    "version": 2
   },
   "file_extension": ".py",
   "mimetype": "text/x-python",
   "name": "python",
   "nbconvert_exporter": "python",
   "pygments_lexer": "ipython2",
   "version": "2.7.12"
  }
 },
 "nbformat": 4,
 "nbformat_minor": 0
}
