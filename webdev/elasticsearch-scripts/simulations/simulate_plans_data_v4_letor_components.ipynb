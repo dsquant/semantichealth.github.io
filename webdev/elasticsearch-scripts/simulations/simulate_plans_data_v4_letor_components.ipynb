{
 "cells": [
  {
   "cell_type": "markdown",
   "metadata": {},
   "source": [
    "# Simulate Plans Data"
   ]
  },
  {
   "cell_type": "code",
   "execution_count": 1,
   "metadata": {
    "collapsed": false
   },
   "outputs": [],
   "source": [
    "import numpy as np\n",
    "import json\n",
    "import requests\n",
    "import us\n",
    "from elasticsearch import Elasticsearch\n",
    "from faker import Factory"
   ]
  },
  {
   "cell_type": "code",
   "execution_count": 3,
   "metadata": {
    "collapsed": true
   },
   "outputs": [],
   "source": [
    "# Elasticsearch instance (hosted on AWS EC2)\n",
    "es = Elasticsearch()"
   ]
  },
  {
   "cell_type": "markdown",
   "metadata": {},
   "source": [
    "### Generate Simulated Data"
   ]
  },
  {
   "cell_type": "code",
   "execution_count": 3,
   "metadata": {
    "collapsed": true
   },
   "outputs": [],
   "source": [
    "# Simulate some data for testing"
   ]
  },
  {
   "cell_type": "code",
   "execution_count": 38,
   "metadata": {
    "collapsed": false
   },
   "outputs": [],
   "source": [
    "def simulate_data(output_path, N=10000):\n",
    "    '''\n",
    "    Simulate healthcare plans data in json format\n",
    "    '''\n",
    "    # Create fake names generator\n",
    "    fake = Factory.create()\n",
    "    fake.seed(1)\n",
    "    np.random.seed(1)\n",
    "    # Set parameters\n",
    "    n_providers_pool = 50\n",
    "    n_providers_per_plan = 10\n",
    "    # Initial data pool\n",
    "    levels = [\"Platinum\", \"Gold\", \"Silver\", \"Bronze\", \"Catastrophic\"]\n",
    "    states = us.states.mapping('abbr', 'name').keys()\n",
    "    providers_pool = [dict(name=fake.name(), address=fake.address()) for i in range(n_providers_pool)]\n",
    "    \n",
    "    # Output    \n",
    "    result = [dict(\n",
    "                plan_name = fake.company(),\n",
    "                level = np.random.choice(levels),\n",
    "                premium = np.random.normal(loc=100, scale=15),\n",
    "                premium_q1 = np.random.normal(loc=100, scale=15),\n",
    "                plan_rank_0 = np.random.random(),\n",
    "                plan_rank_1 = np.random.random(),\n",
    "                plan_rank_2 = np.random.random(),\n",
    "                url = fake.url(),\n",
    "                state = np.random.choice(states),\n",
    "                providers = list(np.random.choice(providers_pool, size=n_providers_per_plan, replace=False))\n",
    "              ) for i in range(N)]\n",
    "                        \n",
    "    json.dump(result, open(output_path, \"w\"), indent=2)"
   ]
  },
  {
   "cell_type": "code",
   "execution_count": 39,
   "metadata": {
    "collapsed": false,
    "scrolled": true
   },
   "outputs": [],
   "source": [
    "simulate_data(\"sim_plans_data_v4.json\", 10000)"
   ]
  },
  {
   "cell_type": "code",
   "execution_count": 40,
   "metadata": {
    "collapsed": false
   },
   "outputs": [
    {
     "name": "stdout",
     "output_type": "stream",
     "text": [
      "[\r\n",
      "  {\r\n",
      "    \"premium_q1\": 93.26683288418842, \r\n",
      "    \"premium\": 87.96740742027036, \r\n",
      "    \"providers\": [\r\n",
      "      {\r\n",
      "        \"name\": \"Joyce Harrison\", \r\n",
      "        \"address\": \"688 Dakota Fords Suite 317\\nFlynnhaven, KY 97043-2846\"\r\n",
      "      }, \r\n",
      "      {\r\n",
      "        \"name\": \"Jordan Peters\", \r\n",
      "        \"address\": \"22570 Whitney Inlet Suite 170\\nFloresstad, ID 91786-7499\"\r\n",
      "      }, \r\n",
      "      {\r\n",
      "        \"name\": \"Robert Clark\", \r\n",
      "        \"address\": \"64379 Anthony Junction Suite 170\\nPort Rachel, RI 44771\"\r\n",
      "      }, \r\n",
      "      {\r\n",
      "        \"name\": \"Daniel Burnett\", \r\n",
      "        \"address\": \"57634 Bowers Mount\\nSouth Thomas, AS 95315-9758\"\r\n",
      "      }, \r\n",
      "      {\r\n",
      "        \"name\": \"Michelle Jones\", \r\n",
      "        \"address\": \"31001 Gonzalez Squares Apt. 198\\nBrownbury, NC 95308-9963\"\r\n",
      "      }, \r\n",
      "      {\r\n",
      "        \"name\": \"George Hernandez\", \r\n",
      "        \"address\": \"2020 Kennedy Circles Suite 274\\nRossport, RI 91798\"\r\n",
      "      }, \r\n",
      "      {\r\n",
      "        \"name\": \"Steve Davis\", \r\n",
      "        \"address\": \"USNV Owens\\nFPO AA 60596\"\r\n",
      "      }, \r\n",
      "      {\r\n",
      "        \"name\": \"Kristin Jenkins\", \r\n",
      "        \"address\": \"USNS Brock\\nFPO AE 67686\"\r\n",
      "      }, \r\n",
      "      {\r\n",
      "        \"name\": \"Laura Moore\", \r\n",
      "        \"address\": \"0996 John Trail Apt. 754\\nHarrisstad, AZ 07001\"\r\n",
      "      }, \r\n",
      "      {\r\n",
      "        \"name\": \"Ashley Abbott\", \r\n",
      "        \"address\": \"57562 John Trail\\nNorth Joshua, IA 02693-6503\"\r\n",
      "      }\r\n",
      "    ], \r\n",
      "    \"url\": \"http://www.adams.com/\", \r\n",
      "    \"level\": \"Bronze\", \r\n",
      "    \"state\": \"WV\", \r\n",
      "    \"plan_rank_0\": 0.0923385947687978, \r\n",
      "    \"plan_rank_1\": 0.1862602113776709, \r\n",
      "    \"plan_rank_2\": 0.34556072704304774, \r\n",
      "    \"plan_name\": \"Macdonald, Snyder and Hernandez\"\r\n",
      "  }, \r\n",
      "  {\r\n",
      "    \"premium_q1\": 89.744082112385, \r\n",
      "    \"premium\": 113.51283923896618, \r\n",
      "    \"providers\": [\r\n",
      "      {\r\n",
      "        \"name\": \"Steve Davis\", \r\n",
      "        \"address\": \"USNV Owens\\nFPO AA 60596\"\r\n",
      "      }, \r\n",
      "      {\r\n",
      "        \"name\": \"Joyce Harrison\", \r\n",
      "        \"address\": \"688 Dakota Fords Suite 317\\nFlynnhaven, KY 97043-2846\"\r\n",
      "      }, \r\n",
      "      {\r\n",
      "        \"name\": \"Judith Salazar\", \r\n",
      "        \"address\": \"5479 Smith Rest\\nAngelberg, PR 63564\"\r\n",
      "      }, \r\n",
      "      {\r\n",
      "        \"name\": \"Jose Pugh\", \r\n",
      "        \"address\": \"4951 Bobby Park Suite 147\\nNorth Daltonburgh, CO 65008\"\r\n",
      "      }, \r\n",
      "      {\r\n",
      "        \"name\": \"Alexis Peterson\", \r\n",
      "        \"address\": \"71320 Robert Keys\\nPhelpsberg, OH 53938\"\r\n",
      "      }, \r\n",
      "      {\r\n",
      "        \"name\": \"Ricky Newman\", \r\n",
      "        \"address\": \"28594 Gabriel Stream\\nNew Antonioland, VT 29411\"\r\n",
      "      }, \r\n",
      "      {\r\n",
      "        \"name\": \"Cheryl Hancock\", \r\n",
      "        \"address\": \"18526 Klein Brook\\nLake Brandonchester, OH 29752-6353\"\r\n",
      "      }, \r\n",
      "      {\r\n",
      "        \"name\": \"Monica Flores\", \r\n",
      "        \"address\": \"433 Thomas Port Apt. 503\\nNorth Dillonfort, MH 62055\"\r\n",
      "      }, \r\n",
      "      {\r\n",
      "        \"name\": \"Jordan Peters\", \r\n",
      "        \"address\": \"22570 Whitney Inlet Suite 170\\nFloresstad, ID 91786-7499\"\r\n",
      "      }, \r\n",
      "      {\r\n",
      "        \"name\": \"Robert Deleon\", \r\n",
      "        \"address\": \"508 Nicole Greens Suite 013\\nLutzshire, NV 55589-4633\"\r\n",
      "      }\r\n",
      "    ], \r\n",
      "    \"url\": \"http://www.keller.net/\", \r\n"
     ]
    }
   ],
   "source": [
    "!head -n100 sim_plans_data_v4.json"
   ]
  },
  {
   "cell_type": "markdown",
   "metadata": {},
   "source": [
    "### Define ES Mapping"
   ]
  },
  {
   "cell_type": "code",
   "execution_count": 17,
   "metadata": {
    "collapsed": true
   },
   "outputs": [],
   "source": [
    "# Create Elasticsearch mapping"
   ]
  },
  {
   "cell_type": "markdown",
   "metadata": {},
   "source": [
    "Index: Data  \n",
    "Type: Plans  \n",
    "Fields:  \n",
    "- plan_name (string, raw)\n",
    "- premium (nested, number)\n",
    "- level (string, raw)\n",
    "- url (string, raw)\n",
    "- plan_ranks (number)\n",
    "- state (string, non-analyzed)\n",
    "- providers (nested)\n",
    "    - name: string, raw\n",
    "    - address: string, non-analyzed"
   ]
  },
  {
   "cell_type": "code",
   "execution_count": 12,
   "metadata": {
    "collapsed": false
   },
   "outputs": [
    {
     "name": "stdout",
     "output_type": "stream",
     "text": [
      "{\"acknowledged\":true}"
     ]
    }
   ],
   "source": [
    "!curl -XDELETE 'localhost:9200/data'"
   ]
  },
  {
   "cell_type": "code",
   "execution_count": 13,
   "metadata": {
    "collapsed": false
   },
   "outputs": [],
   "source": [
    "def define_plan_mappings(es):\n",
    "    # Mapping\n",
    "    settings = {\n",
    "        \"settings\": {\n",
    "            \"index\": {\n",
    "                \"number_of_shards\" : 5,\n",
    "                \"number_of_replicas\" : 1                \n",
    "            }\n",
    "        },\n",
    "        \n",
    "        \"mappings\": {\n",
    "            \"plan\": {\n",
    "                \"properties\": {\n",
    "                    \"plan_name\": {\n",
    "                        \"type\": \"string\",\n",
    "                        \"index\": \"analyzed\",\n",
    "                        \"fields\": {\n",
    "                            \"raw\": {\n",
    "                                \"type\": \"string\",\n",
    "                                \"index\": \"not_analyzed\"\n",
    "                            }\n",
    "                        }                    \n",
    "                    },\n",
    "\n",
    "                    \"premium\": {\n",
    "                        \"type\": \"float\",                                                    \n",
    "                    },\n",
    "                    \n",
    "                    \"premium_q1\": {\n",
    "                        \"type\": \"float\",\n",
    "                        \"index\": \"no\"\n",
    "                    },\n",
    "\n",
    "                    \"level\": {\n",
    "                        \"type\": \"string\",\n",
    "                        \"index\": \"analyzed\",\n",
    "                        \"fields\": {\n",
    "                            \"raw\": {\n",
    "                                \"type\": \"string\",\n",
    "                                \"index\": \"not_analyzed\"\n",
    "                            }\n",
    "                        }                    \n",
    "                    },\n",
    "\n",
    "                    \"url\": {\n",
    "                        \"index\": \"no\",\n",
    "                        \"type\": \"string\"                        \n",
    "                    },\n",
    "                    \n",
    "                    \"plan_rank_0\": {\n",
    "                        \"type\": \"float\",\n",
    "                    },\n",
    "                    \n",
    "                    \"plan_rank_1\": {\n",
    "                        \"type\": \"float\",\n",
    "                    },\n",
    "                    \n",
    "                    \"plan_rank_2\": {\n",
    "                        \"type\": \"float\",\n",
    "                    },\n",
    "                    \n",
    "                    \"state\": {\n",
    "                        \"type\": \"string\",\n",
    "                        \"index\": \"not_analyzed\"\n",
    "                    },\n",
    "\n",
    "                    \"providers\": {\n",
    "                        \"type\": \"nested\",\n",
    "                        \"properties\": {\n",
    "                            \"name\": {\n",
    "                                \"type\": \"string\",\n",
    "                                \"index\": \"analyzed\",\n",
    "                                \"fields\": {\n",
    "                                    \"raw\": {\n",
    "                                        \"type\": \"string\",\n",
    "                                        \"index\": \"not_analyzed\"\n",
    "                                    }\n",
    "                                }                                \n",
    "                            },\n",
    "                            \"address\": {\n",
    "                                \"type\": \"string\",\n",
    "                                \"index\": \"no\",                                                       \n",
    "                            }\n",
    "                        }                                                                                            \n",
    "                    }\n",
    "                }                                 \n",
    "            }    \n",
    "        }        \n",
    "    }\n",
    "    \n",
    "    # Define mappings in ES\n",
    "    es.indices.create(index=\"data\", body=settings)"
   ]
  },
  {
   "cell_type": "code",
   "execution_count": 14,
   "metadata": {
    "collapsed": false
   },
   "outputs": [],
   "source": [
    "define_plan_mappings(es)"
   ]
  },
  {
   "cell_type": "code",
   "execution_count": 15,
   "metadata": {
    "collapsed": false
   },
   "outputs": [
    {
     "name": "stdout",
     "output_type": "stream",
     "text": [
      "{\r\n",
      "  \"data\" : {\r\n",
      "    \"mappings\" : {\r\n",
      "      \"plan\" : {\r\n",
      "        \"properties\" : {\r\n",
      "          \"level\" : {\r\n",
      "            \"type\" : \"string\",\r\n",
      "            \"fields\" : {\r\n",
      "              \"raw\" : {\r\n",
      "                \"type\" : \"string\",\r\n",
      "                \"index\" : \"not_analyzed\"\r\n",
      "              }\r\n",
      "            }\r\n",
      "          },\r\n",
      "          \"plan_name\" : {\r\n",
      "            \"type\" : \"string\",\r\n",
      "            \"fields\" : {\r\n",
      "              \"raw\" : {\r\n",
      "                \"type\" : \"string\",\r\n",
      "                \"index\" : \"not_analyzed\"\r\n",
      "              }\r\n",
      "            }\r\n",
      "          },\r\n",
      "          \"plan_rank_0\" : {\r\n",
      "            \"type\" : \"float\"\r\n",
      "          },\r\n",
      "          \"plan_rank_1\" : {\r\n",
      "            \"type\" : \"float\"\r\n",
      "          },\r\n",
      "          \"plan_rank_2\" : {\r\n",
      "            \"type\" : \"float\"\r\n",
      "          },\r\n",
      "          \"premium\" : {\r\n",
      "            \"type\" : \"float\"\r\n",
      "          },\r\n",
      "          \"premium_q1\" : {\r\n",
      "            \"type\" : \"float\",\r\n",
      "            \"index\" : \"no\"\r\n",
      "          },\r\n",
      "          \"providers\" : {\r\n",
      "            \"type\" : \"nested\",\r\n",
      "            \"properties\" : {\r\n",
      "              \"address\" : {\r\n",
      "                \"type\" : \"string\",\r\n",
      "                \"index\" : \"no\"\r\n",
      "              },\r\n",
      "              \"name\" : {\r\n",
      "                \"type\" : \"string\",\r\n",
      "                \"fields\" : {\r\n",
      "                  \"raw\" : {\r\n",
      "                    \"type\" : \"string\",\r\n",
      "                    \"index\" : \"not_analyzed\"\r\n",
      "                  }\r\n",
      "                }\r\n",
      "              }\r\n",
      "            }\r\n",
      "          },\r\n",
      "          \"state\" : {\r\n",
      "            \"type\" : \"string\",\r\n",
      "            \"index\" : \"not_analyzed\"\r\n",
      "          },\r\n",
      "          \"url\" : {\r\n",
      "            \"type\" : \"string\",\r\n",
      "            \"index\" : \"no\"\r\n",
      "          }\r\n",
      "        }\r\n",
      "      }\r\n",
      "    }\r\n",
      "  }\r\n",
      "}\r\n"
     ]
    }
   ],
   "source": [
    "!curl 'localhost:9200/data/_mapping/plan?pretty'"
   ]
  },
  {
   "cell_type": "markdown",
   "metadata": {},
   "source": [
    "### Load Data"
   ]
  },
  {
   "cell_type": "code",
   "execution_count": 8,
   "metadata": {
    "collapsed": false
   },
   "outputs": [],
   "source": [
    "def load_data(input_path, es):\n",
    "    # Get data from file    \n",
    "    data = json.load(open(input_path))\n",
    "    # Add each plan\n",
    "    for i, plan in enumerate(data):\n",
    "        es.index(index='data', doc_type='plan', id=i, body=plan)"
   ]
  },
  {
   "cell_type": "code",
   "execution_count": 16,
   "metadata": {
    "collapsed": false
   },
   "outputs": [],
   "source": [
    "load_data(\"sim_plans_data_v4.json\", es)"
   ]
  },
  {
   "cell_type": "code",
   "execution_count": 58,
   "metadata": {
    "collapsed": true
   },
   "outputs": [],
   "source": [
    "# Check data"
   ]
  },
  {
   "cell_type": "code",
   "execution_count": 17,
   "metadata": {
    "collapsed": false
   },
   "outputs": [
    {
     "name": "stdout",
     "output_type": "stream",
     "text": [
      "health status index                  pri rep docs.count docs.deleted store.size pri.store.size \r\n",
      "yellow open   data                     5   1     110000            0     10.2mb         10.2mb \r\n",
      "yellow open   get-together             2   1         20            0     28.4kb         28.4kb \r\n",
      "yellow open   myindex                  5   1          0            0       800b           800b \r\n",
      "yellow open   november_2014_invoices   5   1          0            0       800b           800b \r\n",
      "yellow open   blog                     5   1          1            0      3.6kb          3.6kb \r\n",
      "yellow open   december_2014_invoices   5   1          0            0       800b           800b \r\n",
      "yellow open   logs                     5   1          1            0      3.7kb          3.7kb \r\n"
     ]
    }
   ],
   "source": [
    "!curl 'localhost:9200/_cat/indices?v'"
   ]
  },
  {
   "cell_type": "code",
   "execution_count": 18,
   "metadata": {
    "collapsed": false,
    "scrolled": false
   },
   "outputs": [
    {
     "name": "stdout",
     "output_type": "stream",
     "text": [
      "{\r\n",
      "  \"_index\" : \"data\",\r\n",
      "  \"_type\" : \"plan\",\r\n",
      "  \"_id\" : \"0\",\r\n",
      "  \"_version\" : 1,\r\n",
      "  \"found\" : true,\r\n",
      "  \"_source\" : {\r\n",
      "    \"premium_q1\" : 93.26683288418842,\r\n",
      "    \"premium\" : 87.96740742027036,\r\n",
      "    \"level\" : \"Bronze\",\r\n",
      "    \"url\" : \"http://www.adams.com/\",\r\n",
      "    \"providers\" : [ {\r\n",
      "      \"name\" : \"Joyce Harrison\",\r\n",
      "      \"address\" : \"688 Dakota Fords Suite 317\\nFlynnhaven, KY 97043-2846\"\r\n",
      "    }, {\r\n",
      "      \"name\" : \"Jordan Peters\",\r\n",
      "      \"address\" : \"22570 Whitney Inlet Suite 170\\nFloresstad, ID 91786-7499\"\r\n",
      "    }, {\r\n",
      "      \"name\" : \"Robert Clark\",\r\n",
      "      \"address\" : \"64379 Anthony Junction Suite 170\\nPort Rachel, RI 44771\"\r\n",
      "    }, {\r\n",
      "      \"name\" : \"Daniel Burnett\",\r\n",
      "      \"address\" : \"57634 Bowers Mount\\nSouth Thomas, AS 95315-9758\"\r\n",
      "    }, {\r\n",
      "      \"name\" : \"Michelle Jones\",\r\n",
      "      \"address\" : \"31001 Gonzalez Squares Apt. 198\\nBrownbury, NC 95308-9963\"\r\n",
      "    }, {\r\n",
      "      \"name\" : \"George Hernandez\",\r\n",
      "      \"address\" : \"2020 Kennedy Circles Suite 274\\nRossport, RI 91798\"\r\n",
      "    }, {\r\n",
      "      \"name\" : \"Steve Davis\",\r\n",
      "      \"address\" : \"USNV Owens\\nFPO AA 60596\"\r\n",
      "    }, {\r\n",
      "      \"name\" : \"Kristin Jenkins\",\r\n",
      "      \"address\" : \"USNS Brock\\nFPO AE 67686\"\r\n",
      "    }, {\r\n",
      "      \"name\" : \"Laura Moore\",\r\n",
      "      \"address\" : \"0996 John Trail Apt. 754\\nHarrisstad, AZ 07001\"\r\n",
      "    }, {\r\n",
      "      \"name\" : \"Ashley Abbott\",\r\n",
      "      \"address\" : \"57562 John Trail\\nNorth Joshua, IA 02693-6503\"\r\n",
      "    } ],\r\n",
      "    \"state\" : \"WV\",\r\n",
      "    \"plan_rank_0\" : 0.0923385947687978,\r\n",
      "    \"plan_rank_1\" : 0.1862602113776709,\r\n",
      "    \"plan_rank_2\" : 0.34556072704304774,\r\n",
      "    \"plan_name\" : \"Macdonald, Snyder and Hernandez\"\r\n",
      "  }\r\n",
      "}\r\n"
     ]
    }
   ],
   "source": [
    "!curl 'localhost:9200/data/plan/0?pretty'"
   ]
  },
  {
   "cell_type": "code",
   "execution_count": 48,
   "metadata": {
    "collapsed": false
   },
   "outputs": [
    {
     "name": "stdout",
     "output_type": "stream",
     "text": [
      "{\r\n",
      "  \"_index\" : \"data\",\r\n",
      "  \"_type\" : \"plan\",\r\n",
      "  \"_id\" : \"1\",\r\n",
      "  \"_version\" : 1,\r\n",
      "  \"found\" : true,\r\n",
      "  \"_source\" : {\r\n",
      "    \"premium_q1\" : 89.744082112385,\r\n",
      "    \"premium\" : 113.51283923896618,\r\n",
      "    \"level\" : \"Gold\",\r\n",
      "    \"url\" : \"http://www.keller.net/\",\r\n",
      "    \"providers\" : [ {\r\n",
      "      \"name\" : \"Steve Davis\",\r\n",
      "      \"address\" : \"USNV Owens\\nFPO AA 60596\"\r\n",
      "    }, {\r\n",
      "      \"name\" : \"Joyce Harrison\",\r\n",
      "      \"address\" : \"688 Dakota Fords Suite 317\\nFlynnhaven, KY 97043-2846\"\r\n",
      "    }, {\r\n",
      "      \"name\" : \"Judith Salazar\",\r\n",
      "      \"address\" : \"5479 Smith Rest\\nAngelberg, PR 63564\"\r\n",
      "    }, {\r\n",
      "      \"name\" : \"Jose Pugh\",\r\n",
      "      \"address\" : \"4951 Bobby Park Suite 147\\nNorth Daltonburgh, CO 65008\"\r\n",
      "    }, {\r\n",
      "      \"name\" : \"Alexis Peterson\",\r\n",
      "      \"address\" : \"71320 Robert Keys\\nPhelpsberg, OH 53938\"\r\n",
      "    }, {\r\n",
      "      \"name\" : \"Ricky Newman\",\r\n",
      "      \"address\" : \"28594 Gabriel Stream\\nNew Antonioland, VT 29411\"\r\n",
      "    }, {\r\n",
      "      \"name\" : \"Cheryl Hancock\",\r\n",
      "      \"address\" : \"18526 Klein Brook\\nLake Brandonchester, OH 29752-6353\"\r",
      "\r\n",
      "    }, {\r\n",
      "      \"name\" : \"Monica Flores\",\r\n",
      "      \"address\" : \"433 Thomas Port Apt. 503\\nNorth Dillonfort, MH 62055\"\r\n",
      "    }, {\r\n",
      "      \"name\" : \"Jordan Peters\",\r\n",
      "      \"address\" : \"22570 Whitney Inlet Suite 170\\nFloresstad, ID 91786-7499\"\r\n",
      "    }, {\r\n",
      "      \"name\" : \"Robert Deleon\",\r\n",
      "      \"address\" : \"508 Nicole Greens Suite 013\\nLutzshire, NV 55589-4633\"\r\n",
      "    } ],\r\n",
      "    \"state\" : \"ID\",\r\n",
      "    \"plan_rank_0\" : 0.10322600657764203,\r\n",
      "    \"plan_rank_1\" : 0.44789352617590517,\r\n",
      "    \"plan_rank_2\" : 0.9085955030930956,\r\n",
      "    \"plan_name\" : \"Velasquez and Sons\"\r\n",
      "  }\r\n",
      "}\r\n"
     ]
    }
   ],
   "source": [
    "!curl 'localhost:9200/data/plan/1?pretty'"
   ]
  }
 ],
 "metadata": {
  "anaconda-cloud": {},
  "kernelspec": {
   "display_name": "Python [Root]",
   "language": "python",
   "name": "Python [Root]"
  },
  "language_info": {
   "codemirror_mode": {
    "name": "ipython",
    "version": 2
   },
   "file_extension": ".py",
   "mimetype": "text/x-python",
   "name": "python",
   "nbconvert_exporter": "python",
   "pygments_lexer": "ipython2",
   "version": "2.7.12"
  }
 },
 "nbformat": 4,
 "nbformat_minor": 0
}
