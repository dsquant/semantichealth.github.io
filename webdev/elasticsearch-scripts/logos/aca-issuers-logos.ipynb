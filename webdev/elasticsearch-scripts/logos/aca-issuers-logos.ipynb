{
 "cells": [
  {
   "cell_type": "markdown",
   "metadata": {},
   "source": [
    "# Issuers' Logo"
   ]
  },
  {
   "cell_type": "code",
   "execution_count": 1,
   "metadata": {
    "collapsed": true
   },
   "outputs": [],
   "source": [
    "import numpy as np\n",
    "import pandas as pd\n",
    "import requests\n",
    "import os\n",
    "import time\n",
    "import json"
   ]
  },
  {
   "cell_type": "markdown",
   "metadata": {},
   "source": [
    "### Clean up data"
   ]
  },
  {
   "cell_type": "code",
   "execution_count": 8,
   "metadata": {
    "collapsed": true
   },
   "outputs": [],
   "source": [
    "issuers = pd.read_csv(\"2015-Q3-HIOS-Issuers.csv\")"
   ]
  },
  {
   "cell_type": "code",
   "execution_count": 9,
   "metadata": {
    "collapsed": false
   },
   "outputs": [
    {
     "data": {
      "text/html": [
       "<div>\n",
       "<table border=\"1\" class=\"dataframe\">\n",
       "  <thead>\n",
       "    <tr style=\"text-align: right;\">\n",
       "      <th></th>\n",
       "      <th>HIOS_ISSUER_ID</th>\n",
       "      <th>ISSR_LGL_NAME</th>\n",
       "      <th>MarketingName</th>\n",
       "      <th>State</th>\n",
       "      <th>IndividualMarket</th>\n",
       "      <th>SmallGroupMarket</th>\n",
       "      <th>UnknownMarket</th>\n",
       "      <th>LargeMarket</th>\n",
       "      <th>FEDERAL_EIN</th>\n",
       "      <th>Active</th>\n",
       "      <th>DateCreated</th>\n",
       "      <th>LastModifiedDate</th>\n",
       "      <th>DatabaseCompanyID</th>\n",
       "      <th>ORG_ADR1</th>\n",
       "      <th>ORG_ADR2</th>\n",
       "      <th>ORG_CITY</th>\n",
       "      <th>ORG_STATE</th>\n",
       "      <th>ORG_ZIP</th>\n",
       "      <th>ORG_ZIP4</th>\n",
       "    </tr>\n",
       "  </thead>\n",
       "  <tbody>\n",
       "    <tr>\n",
       "      <th>0</th>\n",
       "      <td>97624</td>\n",
       "      <td>PreferredOne Community Health Plan</td>\n",
       "      <td>NaN</td>\n",
       "      <td>MN</td>\n",
       "      <td>YES</td>\n",
       "      <td>YES</td>\n",
       "      <td>NO</td>\n",
       "      <td>NO</td>\n",
       "      <td>411796007.0</td>\n",
       "      <td>YES</td>\n",
       "      <td>7/14/10</td>\n",
       "      <td>5/17/13</td>\n",
       "      <td>315.0</td>\n",
       "      <td>6105 Golden Hills Drive</td>\n",
       "      <td>NaN</td>\n",
       "      <td>Golden Valley</td>\n",
       "      <td>MN</td>\n",
       "      <td>55416</td>\n",
       "      <td>NaN</td>\n",
       "    </tr>\n",
       "    <tr>\n",
       "      <th>1</th>\n",
       "      <td>88102</td>\n",
       "      <td>PreferredOne Insurance Company</td>\n",
       "      <td>NaN</td>\n",
       "      <td>MN</td>\n",
       "      <td>YES</td>\n",
       "      <td>YES</td>\n",
       "      <td>NO</td>\n",
       "      <td>NO</td>\n",
       "      <td>810625135.0</td>\n",
       "      <td>YES</td>\n",
       "      <td>7/14/10</td>\n",
       "      <td>5/17/13</td>\n",
       "      <td>316.0</td>\n",
       "      <td>6501 Golden Hills Drive</td>\n",
       "      <td>NaN</td>\n",
       "      <td>Golden Valley</td>\n",
       "      <td>MN</td>\n",
       "      <td>55416</td>\n",
       "      <td>NaN</td>\n",
       "    </tr>\n",
       "    <tr>\n",
       "      <th>2</th>\n",
       "      <td>21580</td>\n",
       "      <td>nHealth, Inc.</td>\n",
       "      <td>NaN</td>\n",
       "      <td>VA</td>\n",
       "      <td>NO</td>\n",
       "      <td>YES</td>\n",
       "      <td>NO</td>\n",
       "      <td>NO</td>\n",
       "      <td>760827573.0</td>\n",
       "      <td>YES</td>\n",
       "      <td>6/16/10</td>\n",
       "      <td>NaN</td>\n",
       "      <td>282.0</td>\n",
       "      <td>2570 Technical Drive</td>\n",
       "      <td>NaN</td>\n",
       "      <td>Miamisburg</td>\n",
       "      <td>OH</td>\n",
       "      <td>45342</td>\n",
       "      <td>NaN</td>\n",
       "    </tr>\n",
       "    <tr>\n",
       "      <th>3</th>\n",
       "      <td>18196</td>\n",
       "      <td>Trilogy Health Insurance, Inc.</td>\n",
       "      <td>NaN</td>\n",
       "      <td>WI</td>\n",
       "      <td>NO</td>\n",
       "      <td>YES</td>\n",
       "      <td>NO</td>\n",
       "      <td>NO</td>\n",
       "      <td>205330218.0</td>\n",
       "      <td>YES</td>\n",
       "      <td>7/14/10</td>\n",
       "      <td>8/28/12</td>\n",
       "      <td>373.0</td>\n",
       "      <td>18000 West Sarah Lane</td>\n",
       "      <td>Suite 310</td>\n",
       "      <td>Brookfield</td>\n",
       "      <td>WI</td>\n",
       "      <td>53045</td>\n",
       "      <td>5842</td>\n",
       "    </tr>\n",
       "    <tr>\n",
       "      <th>4</th>\n",
       "      <td>47342</td>\n",
       "      <td>Health Tradition Health Plan</td>\n",
       "      <td>Health Tradition Health Plan</td>\n",
       "      <td>WI</td>\n",
       "      <td>YES</td>\n",
       "      <td>YES</td>\n",
       "      <td>NO</td>\n",
       "      <td>NO</td>\n",
       "      <td>391545987.0</td>\n",
       "      <td>YES</td>\n",
       "      <td>5/26/10</td>\n",
       "      <td>11/6/13</td>\n",
       "      <td>188.0</td>\n",
       "      <td>1808 E. Main St</td>\n",
       "      <td>NaN</td>\n",
       "      <td>Onalaska</td>\n",
       "      <td>WI</td>\n",
       "      <td>54650</td>\n",
       "      <td>NaN</td>\n",
       "    </tr>\n",
       "    <tr>\n",
       "      <th>5</th>\n",
       "      <td>47342</td>\n",
       "      <td>Health Tradition Health Plan</td>\n",
       "      <td>Health Tradition Health Plan</td>\n",
       "      <td>WI</td>\n",
       "      <td>YES</td>\n",
       "      <td>YES</td>\n",
       "      <td>NO</td>\n",
       "      <td>NO</td>\n",
       "      <td>391545987.0</td>\n",
       "      <td>YES</td>\n",
       "      <td>5/26/10</td>\n",
       "      <td>11/6/13</td>\n",
       "      <td>188.0</td>\n",
       "      <td>1808 East Main Street</td>\n",
       "      <td>PO BOX 188</td>\n",
       "      <td>Onalaska</td>\n",
       "      <td>WI</td>\n",
       "      <td>54650</td>\n",
       "      <td>8456</td>\n",
       "    </tr>\n",
       "    <tr>\n",
       "      <th>6</th>\n",
       "      <td>99852</td>\n",
       "      <td>The Vermont Health Plan, LLC</td>\n",
       "      <td>NaN</td>\n",
       "      <td>VT</td>\n",
       "      <td>NO</td>\n",
       "      <td>YES</td>\n",
       "      <td>NO</td>\n",
       "      <td>NO</td>\n",
       "      <td>30354356.0</td>\n",
       "      <td>YES</td>\n",
       "      <td>5/21/10</td>\n",
       "      <td>3/8/13</td>\n",
       "      <td>369.0</td>\n",
       "      <td>P.O. Box 186</td>\n",
       "      <td>NaN</td>\n",
       "      <td>Montpelier</td>\n",
       "      <td>VT</td>\n",
       "      <td>5601</td>\n",
       "      <td>186</td>\n",
       "    </tr>\n",
       "    <tr>\n",
       "      <th>7</th>\n",
       "      <td>85425</td>\n",
       "      <td>Mutual of Omaha Insurance Company</td>\n",
       "      <td>NaN</td>\n",
       "      <td>AL</td>\n",
       "      <td>YES</td>\n",
       "      <td>NO</td>\n",
       "      <td>NO</td>\n",
       "      <td>NO</td>\n",
       "      <td>470246511.0</td>\n",
       "      <td>YES</td>\n",
       "      <td>6/11/10</td>\n",
       "      <td>NaN</td>\n",
       "      <td>269.0</td>\n",
       "      <td>Mutual of Omaha Plaza</td>\n",
       "      <td>NaN</td>\n",
       "      <td>Omaha</td>\n",
       "      <td>NE</td>\n",
       "      <td>68175</td>\n",
       "      <td>NaN</td>\n",
       "    </tr>\n",
       "    <tr>\n",
       "      <th>8</th>\n",
       "      <td>31204</td>\n",
       "      <td>Mutual of Omaha Insurance Company</td>\n",
       "      <td>NaN</td>\n",
       "      <td>MA</td>\n",
       "      <td>YES</td>\n",
       "      <td>NO</td>\n",
       "      <td>NO</td>\n",
       "      <td>NO</td>\n",
       "      <td>470246511.0</td>\n",
       "      <td>YES</td>\n",
       "      <td>6/11/10</td>\n",
       "      <td>NaN</td>\n",
       "      <td>269.0</td>\n",
       "      <td>Mutual of Omaha Plaza</td>\n",
       "      <td>NaN</td>\n",
       "      <td>Omaha</td>\n",
       "      <td>NE</td>\n",
       "      <td>68175</td>\n",
       "      <td>NaN</td>\n",
       "    </tr>\n",
       "    <tr>\n",
       "      <th>9</th>\n",
       "      <td>48149</td>\n",
       "      <td>Mutual of Omaha Insurance Company</td>\n",
       "      <td>NaN</td>\n",
       "      <td>NY</td>\n",
       "      <td>YES</td>\n",
       "      <td>NO</td>\n",
       "      <td>NO</td>\n",
       "      <td>NO</td>\n",
       "      <td>470246511.0</td>\n",
       "      <td>YES</td>\n",
       "      <td>6/11/10</td>\n",
       "      <td>NaN</td>\n",
       "      <td>269.0</td>\n",
       "      <td>Mutual of Omaha Plaza</td>\n",
       "      <td>NaN</td>\n",
       "      <td>Omaha</td>\n",
       "      <td>NE</td>\n",
       "      <td>68175</td>\n",
       "      <td>NaN</td>\n",
       "    </tr>\n",
       "  </tbody>\n",
       "</table>\n",
       "</div>"
      ],
      "text/plain": [
       "   HIOS_ISSUER_ID                       ISSR_LGL_NAME  \\\n",
       "0           97624  PreferredOne Community Health Plan   \n",
       "1           88102      PreferredOne Insurance Company   \n",
       "2           21580                       nHealth, Inc.   \n",
       "3           18196      Trilogy Health Insurance, Inc.   \n",
       "4           47342        Health Tradition Health Plan   \n",
       "5           47342        Health Tradition Health Plan   \n",
       "6           99852        The Vermont Health Plan, LLC   \n",
       "7           85425   Mutual of Omaha Insurance Company   \n",
       "8           31204   Mutual of Omaha Insurance Company   \n",
       "9           48149   Mutual of Omaha Insurance Company   \n",
       "\n",
       "                  MarketingName State IndividualMarket SmallGroupMarket  \\\n",
       "0                           NaN    MN              YES              YES   \n",
       "1                           NaN    MN              YES              YES   \n",
       "2                           NaN    VA               NO              YES   \n",
       "3                           NaN    WI               NO              YES   \n",
       "4  Health Tradition Health Plan    WI              YES              YES   \n",
       "5  Health Tradition Health Plan    WI              YES              YES   \n",
       "6                           NaN    VT               NO              YES   \n",
       "7                           NaN    AL              YES               NO   \n",
       "8                           NaN    MA              YES               NO   \n",
       "9                           NaN    NY              YES               NO   \n",
       "\n",
       "  UnknownMarket LargeMarket  FEDERAL_EIN Active DateCreated LastModifiedDate  \\\n",
       "0            NO          NO  411796007.0    YES     7/14/10          5/17/13   \n",
       "1            NO          NO  810625135.0    YES     7/14/10          5/17/13   \n",
       "2            NO          NO  760827573.0    YES     6/16/10              NaN   \n",
       "3            NO          NO  205330218.0    YES     7/14/10          8/28/12   \n",
       "4            NO          NO  391545987.0    YES     5/26/10          11/6/13   \n",
       "5            NO          NO  391545987.0    YES     5/26/10          11/6/13   \n",
       "6            NO          NO   30354356.0    YES     5/21/10           3/8/13   \n",
       "7            NO          NO  470246511.0    YES     6/11/10              NaN   \n",
       "8            NO          NO  470246511.0    YES     6/11/10              NaN   \n",
       "9            NO          NO  470246511.0    YES     6/11/10              NaN   \n",
       "\n",
       "   DatabaseCompanyID                 ORG_ADR1    ORG_ADR2       ORG_CITY  \\\n",
       "0              315.0  6105 Golden Hills Drive         NaN  Golden Valley   \n",
       "1              316.0  6501 Golden Hills Drive         NaN  Golden Valley   \n",
       "2              282.0     2570 Technical Drive         NaN     Miamisburg   \n",
       "3              373.0    18000 West Sarah Lane   Suite 310     Brookfield   \n",
       "4              188.0          1808 E. Main St         NaN       Onalaska   \n",
       "5              188.0    1808 East Main Street  PO BOX 188      Onalaska    \n",
       "6              369.0             P.O. Box 186         NaN     Montpelier   \n",
       "7              269.0    Mutual of Omaha Plaza         NaN          Omaha   \n",
       "8              269.0    Mutual of Omaha Plaza         NaN          Omaha   \n",
       "9              269.0    Mutual of Omaha Plaza         NaN          Omaha   \n",
       "\n",
       "  ORG_STATE ORG_ZIP ORG_ZIP4  \n",
       "0        MN   55416      NaN  \n",
       "1        MN   55416      NaN  \n",
       "2        OH   45342      NaN  \n",
       "3        WI   53045     5842  \n",
       "4        WI   54650      NaN  \n",
       "5        WI   54650     8456  \n",
       "6        VT    5601      186  \n",
       "7        NE   68175      NaN  \n",
       "8        NE   68175      NaN  \n",
       "9        NE   68175      NaN  "
      ]
     },
     "execution_count": 9,
     "metadata": {},
     "output_type": "execute_result"
    }
   ],
   "source": [
    "issuers.head(10)"
   ]
  },
  {
   "cell_type": "code",
   "execution_count": 6,
   "metadata": {
    "collapsed": false
   },
   "outputs": [
    {
     "name": "stdout",
     "output_type": "stream",
     "text": [
      "<class 'pandas.core.frame.DataFrame'>\n",
      "RangeIndex: 7417 entries, 0 to 7416\n",
      "Data columns (total 19 columns):\n",
      "HIOS_ISSUER_ID       7417 non-null int64\n",
      "ISSR_LGL_NAME        7417 non-null object\n",
      "MarketingName        2734 non-null object\n",
      "State                7417 non-null object\n",
      "IndividualMarket     7417 non-null object\n",
      "SmallGroupMarket     7417 non-null object\n",
      "UnknownMarket        7417 non-null object\n",
      "LargeMarket          7417 non-null object\n",
      "FEDERAL_EIN          7415 non-null float64\n",
      "Active               7417 non-null object\n",
      "DateCreated          7417 non-null object\n",
      "LastModifiedDate     2505 non-null object\n",
      "DatabaseCompanyID    7415 non-null float64\n",
      "ORG_ADR1             7111 non-null object\n",
      "ORG_ADR2             1613 non-null object\n",
      "ORG_CITY             7116 non-null object\n",
      "ORG_STATE            7162 non-null object\n",
      "ORG_ZIP              7163 non-null object\n",
      "ORG_ZIP4             3357 non-null object\n",
      "dtypes: float64(2), int64(1), object(16)\n",
      "memory usage: 1.1+ MB\n"
     ]
    }
   ],
   "source": [
    "issuers.info()"
   ]
  },
  {
   "cell_type": "code",
   "execution_count": 10,
   "metadata": {
    "collapsed": false
   },
   "outputs": [],
   "source": [
    "# Get name column\n",
    "issuers[\"name\"] = np.where(pd.isnull(issuers['MarketingName']), issuers['ISSR_LGL_NAME'], issuers['MarketingName'])"
   ]
  },
  {
   "cell_type": "code",
   "execution_count": 11,
   "metadata": {
    "collapsed": false,
    "scrolled": true
   },
   "outputs": [],
   "source": [
    "# Parse the name columns\n",
    "issuers['name_parsed'] = issuers['name'].str.lower()\\\n",
    "    .str.split(',|\\(|\\.').str.get(0).str.strip()\\\n",
    "    .str.split('(co|llc|inc)$').str.get(0).str.strip()"
   ]
  },
  {
   "cell_type": "code",
   "execution_count": 12,
   "metadata": {
    "collapsed": false
   },
   "outputs": [
    {
     "name": "stdout",
     "output_type": "stream",
     "text": [
      "1309\n",
      "['florida blue', 'thrivent financial for lutherans', \"martin's point generations\", 'nea ret health trust', 'premera blue cross', 'dsm usa insurance company- il', 'allegiance life & health insurance company', 'guarantee trust life insurance', 'american medical security life insurance company', 'north shore-lij insurance company', 'ffe rr test issuer m 524', 'conseco life insurance company', 'southwest life & health insurance', 'cigna healthcare of delaware', 'cgi test issuer 3', 'cgi test issuer 2', 'cgi djr issuer', 'healthplus insurance company', 'cgi test issuer 7', 'cgi test issuer 6', 'cgi test issuer 5', 'cgi test issuer 4', 'shelter life insurance company', 'unitedhealthcare insurance company', 'colorado choice health plans', 'north america administrators', 'humana health insurance co of fl', 'blue cross blue shield of louisiana', 'altus dental insurance company', 'golden dental plans', 'empire today', 'roquette america', 'sierra health and life insurance company', 'humana wisconsin health org', 'allianz life insurance company of north america', 'ambetter of magnolia', 'international healthcare services', 'institute for defense analyses', 'blue cross and blue shield of arizona', 'acn group of california', 'emblemhealth', 'highmark blue cross blue shield west virginia', 'contra costa health plan', 'willamette dental group', 'amerihealth new jersey', 'inter-county hospital  plan', 'pan-american life insurance company', 'fallon health and life assurance', 'health plan of san mateo', 'waters corp', 'louisiana healthcare connections', 'american family insurance company', 'gilbert hospital', 'kaiser foundation health plan of georgia', 'coventry health & life insurance company', 'firstfleet', 'liberty national life insurance', 'reid hospital & health care services', 'the chesapeake life insurance company', 'retailers insurance company', 'hm life insurance company', 'preferred health systems - hmo/pos', 'the guardian life insurance company', 'coventry health care of georgia', 'anthem blue cross and blue shield', 'pbt', 'mmm healthcare', 'united concordia life and health insurance company', 'united skates of america', 'highmark blue cross blue shield delaware', 'calnet', 'tab products co', 'william penn life insurance company', 'american progressive life & health insurance compa', 'anthem blue cross life and health insurance company', 'erika ross', 'excellus health plan', 'testingonly for the production cutover weekend of february 2013 testing testing testing testing only', 'unitedhealthcare of alabama', 'prominence preferred health insurance company', 'first source employee management', 'reserve national insurance company', 'willamette dental of idaho', 'chc of il', 'carefirst bluechoice', 'alliant health plans', 'great southern life insurance company', 'land of lincoln mutual health insurance company', 'group health cooperative of south central wisconsin', 'reliance standard life insurance company', 'trimble navigation limited', 'new west health services', 'delta dental of iowa', 'zeneca', 'unimerica insurance company', 'delta dental insurance company', 'christ community health services augusta', 'healthmatters of central oregon', 'national coatings & supplies', 'pacificsource community health plans', 'medica health plans of florida', 'archcare senior life', 'partners & napier', 'health advantage', 'oscar', 'access health colorado', 'unitedhealthcare oxford', 'memorial hermann health insurance company', 'the s/l/a/m collaborative', 'the berry company', 'dakotacare', 'twin city pipe trades welfare plan', 'geisinger quality options', 'regence bluecross blueshield of oregon', 'blue cross blue shield of montana', 'wea insurance company', 'globe life and accident insurance', 'firstcare health plans', 'trustmark life insurance company', 'north carolina dental society healthcare plan', 'janet t aillet', 'hd supply', 'american fidelity assurance company', 'sanford heart of america health plan', 'upmc welfare benefits plan', 'geisinger choice', 'arkansas blue cross and blue shield', 'cariten insurance company', 'communityfirst', 'ffe rr test issuer m 522', 'guardian', 'healthplex dental services', 'truitt bros', 'lifesecure insurance company', 'so cal transport', 'dsm massachusetts insurance company', 'dean health plan', 'phoenix health plans', 'medassets services', 'the toro company', 'group major medical plan', 'alpha dental programs', 'unitedhealthcare ins co of illinois', 'harvard pilgrim health care of connecticut', 'the dispatch printing company', 'bluecross blueshield kansas solutions', 'humana insurance company of kentucky', 'pekin life insurance company', 'ca shps', 'cbiz', 'companion ife insurance company', 'bankers life and casualty company', 'cgi test company', 'medica', 'texhealth central texas', 'dental health services', 'nevada dental benefits', 'newbridge bank', 'blue cross and blue shield of kansas', 'garrett county memorial hospital', 'unitedhealthcare benefits of texas', 'romeo rim', 'arise health plan', 'dsm usa insurance company inc- va', 'regal life of america insurance company', 'delta dental of indiana', 'landauer', 'conseco life insurance company of texas', 'golden state medicare health plan', 'select medical corporation group health plan', 'american sentinel insurance company', 'moreton', 'remy international', 'blue cross blue shield healthcare plan of georgia', 'hmo missouri', 'ucare health', 'delta dental plan of new mexi', 'mitsui &', \"the children's clinic\", 'celtic insurance company', 'hometown health providers ins', 'hm health insurance company', 'ing life insurance and annuity company', 'mpg operations', 'utmb', 'valmet', 'banner life insurance company', 'new era life insurance company of the midwest', 'meritus mutual health partners', 'firstcarolinacare insurance company', 'brown distributing', 'west coast life insurance company', 'flatiron construction corporation', 'astrazeneca pharmaceuticals lp', 'ffe rr test issuer m 590', 'cigna healthcare of illinois', 'athens area health plan select', 'inter-county health plan', 'cigna healthcare of georgia', 'community health choice', 'sonepar management', 'regence bluecross blueshield of utah', \"pipe fitters' welfare fund\", 'cox health systems hmo', 'summacare', 'orthopaedic & spine center of the rockies', 'florida health care plans', 'aetna health of utah', 'anthem bc/bs', 'sharp health plan', 'cox health systems insurance company', 'humana health plan of ohio', 'vaughan foods', 'unitedhealthcare of the mid-atlantic', 'preferredone insurance company', 'premier access insurance company', 'qualchoice', 'life of america', 'mapfre life insurance company', 'metro metals northwest', 'delta dental', 'john alden life insurance company', 'ashers chocolates', 'innovation health insurance company', 'orthopediatrics corp', 'union health service', 'red gate software', 'american family insurance', 'debbie connelly', 'melaleuca', 'national rifle association of america', 'mony life insurance company', 'health republic insurance of new jersey', 'humana insurance', 'cgi djr issuer #2', 'covered california', 'regence blueshield', 'onecare', 'anthem insurance companies', 'physicians plus insurance corporation', 'erc', 'blue cross blue shield of wisconsin', 'health alliance northwest', 'wmi mutual insurance company', 'cgi company test', 'unitedhealthcare of illinois', 'ambetter from mhs health wisconsin', 'liberty dental plan of nevada', 'kentucky health cooperative', 'ambetter from mhs', 'liberty mutual insurance company', 'blue cross blue shield of minnesota', 'common ground healthcare cooperative', 'amerihealth hmo', 'unitedhealthcare insurance company of illinois', 'health matters of central oregon', \"martin's super markets\", 'cenral united life insurance company', 'cglic', 'group health cooperative of eau claire', 'tennant company', 'world insurance company', 'schwartz brothers restaurants', 'dallas container grop', 'ffe rr test issuer 509', 'aetna health', 'woori america bank', 'blue care of michigan', 'delta dental of alaska', 'hmo colorado', 'aetna life insurance company', 'american community mutual insurance company', 'ffe rr test issuer 503', 'ffe rr test issuer 502', 'american republic insurance company', 'ffe rr test issuer 504', 'ffe rr test issuer 507', 'ffe rr test issuer m 529', 'world corp insurance company', 'mvp health care', 'unitedhealthcare insurance company of new york', 'loews hotels at universal orlando', 'frank miller lumber company', 'jmh health plan', 'unitedhealthcare ins co of ohio', 'the benefit group', 'coast aluminum and architectural', 'wisconsin auto & truck dealers insurance', 'employer choice insurance company', 'the cincinnati life insurance company', 'northeast delta dental', 'health first - florida hospital', 'central jersey municipal employee benefits fund', 'iowa pacific holdings', 'highmark coverage advantage', 'pmc medicare choice', 'unity health insurance', 'lewis marketing group', 'independence american insurance company', 'hawaii medical assurance association', 'bluecross blueshield of tennessee', 'carpenters health and welfare trust fund for california', 'cigna healthcare of colorado', 'communitycare life & health insurance company', 'mdc holdings', 'renaissance dental', 'highmark choice company', 'l', \"o'hara corporation\", 'delta dental of idaho', 'community insurance company', 'connecticut carpenters health fund', 'chc of ca', 'unitedhealthcare of oregon', 'health choice arizona', 'vail rubber works', 'us health and life insurance company', 'allegian health plans', 'mclaren health plan', 'flagship health systems', 'first commonwealth limited health services corporation of michigan', 'coventry health & life insurance', 'simplesaverx', 'illinicare health', 'group benefit services', 'sick benefit fund local 223', 'ambetter from magnolia health', 'oxford health plans', 'alameda alliance joint powers authority', 'ffe rr test issuer 505', 'southwest life and health ins comp', 'accesstca', 'cotton states life insurance company', 'health alliance medical plans', 'health net of california', 'fresenius medical care- north america', 'cigna healthcare of st', 'all savers insurance company', '3b group', 'selecthealth benefit assurance company', 'serva group health plan', 'health resources', \"reser's fine foods\", 'american family mutual insurance company', 'mutual of omaha insurance company', 'aaa access dental plan of texas', 'harvard pilgrim health care of ne', \"consumers' choice health plan\", 'moore & van allen p', 'chantal mercier', 'unitedhealthcare', 'presbyterian insurance company', 'cgi federal', 'grand valley health plan', 'uniformed firefighters association', 'optimum choice', 'health republic', 'university of utah health plans', 'tml intergovernmental employee benefits pool', 'kenneth stockel', 'puritan life insurance company of america', 'jefferson life insurance company', 'alpha dental of nevada', 'small group', 'capital bluecross', 'lovelace health plan', 'tower life insurance', 'lake hospital system', 'first reliance standard life insurance company', 'selecthealth', 'blue cross blue shield of michigan', 'uha', 'national foundation  life insurance', 'caresource georgia', 'atlas roofing corporation', 'the finish line', 'ob issuer', 'sutter health plus', 'atlantis health plan', 'ffe rr test issuer 506', 'healthnow new york', 'cgi test company 6', 'molina health care of new mexi', 'first commonwealth of missouri', 'auxilio platino', 'cgi test company 2', 'paramount insurance company', 'health choice insurance', 'national union fire insurance company of pittsburg', 'unitedhealthcare of the midlands', 'best life and health insurance company', 'health net health plan of oregon', 'geisinger indemnity insurance company', 'ffe rr test issuer m 501', 'lifewise assurance company', 'anthem health plans of virginia', 'cgi issuer marketing name edit', 'american progressive life & health insurance company of new york', 'corsicana bedding', 'the epic life insurance company', 'debra peterson', 'draeger medical systems', 'comstock resources', 'delaware american life insurance company', 'dentaquest of florida', 'engineered machined products greenfield', 'healthchoice of michigan', 'hmsa', 'nationwide life insurance company', 'imc manager', 'city of duncanville', 'healthcare options', 'dental service of massachusetts', 'the prudential insurance company of america', 'community health plan', 'alan', 'roman catholic church of the diocese of houma-thib', 'n/a', 'the pennsylvania dental corporation dba delta dental of pennsylvania', 'chinese community health plan', 'hendricks holding company', 'cgi test issuer 1', 'first commonwealth insurance company', 'fidelity life association', 'advantage health solutions', 'hometown health providers insurance company', 'unicare life & health insurance company', 'white oak management', 'whiting oil and gas corporation', 'healthfirst', 'healthspring of tennessee', 'avante behavioral health plan', 'unitedhealthcare insurance company of the river valley', 'james m pleasants', 'delta dental of pennsylvania', 'blossman gas', 'meridian choice', 'metlife insurance company of connecticut', 'vista health plan', 'seechange health insurance company', 'winhealth partners', 'american national life insurance company of texas', 'judith verona', 'standard life and accident insurance company', 'mid-valley ipa employee benefit trust', 'tufts health public plans', 'first medical health plan', 'kaiser foundation health plan of the mid-atlantic states', 'catawba college', '4 ever life insurance company', 'carepoint insurance company', 'cigna healthcare of massachusetts', 'landmark u', 'allegiance life & health insurance', 'lutheran medical center', 'blue cross and blue shield of oklahoma', 'rocky mountain hospital and medical service', 'knights of columbus', 'crestpoint health insurance company', 'christus health plan nm', 'care1st helth plan', 'mid-columbia medical center', 'coventry health care of nebraska', 'holman professional counseling centers', 'american specialty health insurance company', 'madison national life', 'hm life insurance company of new york', 'hphc insurance company', 'state law enforcement bargaining council', 'dentatrust / dentaspan', 'cigna healthcare of st louis', 'archcare advantage', 'liberty mutual insurance', 'preferred health systems - ppo', 'trilogy health insurance', 'wellmark blue cross blue shield of south dakota', 'hmo louisiana', 'the horton fruit company', 'emphesys insurance company', 'physicians health plan', 'trinity health', 'wilkes university', 'catawba valley medical center', 'cheyenne newspapers', 'american general life and accident', 'guarantee trust life insurance company', 'allianz life insurance company of new york', 'delta dental of south dakota', 'healthplan services', 'anthem health plans of new hampshire', 'united agricultural benefit trust', 'the health plan', 'freedom life insurance', 'lifemap assurance company', 'william a', 'assurity life insurance company', 'american heritage life insurance company', 'solstice benefits', 'harvard pilgrim  health care', 'denver health medical plan', 'piedmont community healthcare', 'keystone vip choice', 'aquent', 'community health options', 'blue cross and blue shield of texas', 'independence hospital indemnity plan', 'thompson construction group', 'medi-excel', 'santa cruz-monterey-merced  managed medical care commission', 'ambetter from sunshine health', 'assurant employee benefits', 'troy construction', 'victory packaging lp/gsc of ca', 'citrus health care', 'coventry health and life insurance', 'concorde battery corporation', 'php', 'riverhead building supply', 'oxford health insurance', 'healthkeepers', 'safeguard dental metlife', 'globalhealth', 'care1st health plan', 'united security', 'national foundation life insurance', 'delta dental of new york', 'united concordia insurance company', 'mvp health services corp', 'vaughan transportation', 'independence blue cross', 'sharecare', 'highmark select resources', 'health alliance midwest', 'anthem health plans of maine', 'frankenmuth mutual insurance company', \"schoenecker's\", 'north bay ford', 'connecticare', 'brocade communications systems', 'coventry health care of kansas', 'best life', 'avmed health plans', 'lincoln life & annuity company of new york', 'alwayscare benefits', 'freelancers insurance company', 'harbor health plan', 'tpa issuer', 'mercycare health plans', 'pace industries', 'texhealth 3-share plan', 'mcs life insurance company', 'standard security life', 'ffe rr test issuer m 517', 'apex tool group', 'howard baer', 'time insurance company', 'alpha dental of utah', 'safeguard health plans', 'health republic insurance of new york', 'capital health plan', 'empire healthchoice assurance', 'the wornick company', 'madison national life insurance company', 'new york life insurance company', 'thp insurance company', 'fidelis care', 'ffe rr test issuer m 516', 'montana health co-op', 'concert health plan insurance company', 'shiloh industries', 'unified life insurance company', 'community health plan of washington', 'communitycare hmo', 'aetna healthassurance pennsylvania', 'wisconsin physicians svc insurance corp', 'uhc new england', 'blue cross & blue shield of rhode island', 'commercial travelers mutual insurance company', 'usable life group health', 'dentaquest virginia', 'univera healthcare', 'the union labor life insurance company', 'western grocers employee benefits trust', 'blue cross blue shield of nc', 'coventry health care', 'usable mutual insurance company', 'simply healthcare plans', 'priority partners managed care organization', 'federated mutual insurance company', 'access dental plan of utah', 'schoolcare', 'memorial hermann health plan', 'standard security life insurance company of new yo', 'aultcare insurance company', 'highmark health insurance company', 'blue cross and blue shield of kansas city', 'amy johnston', 'everence insurance company', 'lakeview academy of arts', 'sika corporation', 'avera health plans', 'missouri care', 'mountain health co-op', 'total health care usa', 'holly foust', 'highmark blue cross blue shield', 'liberty dental plan of california', 'qualchoice health insurance', 'ambetter of peach state', 'symetra life insurance company', 'erico international corporation', 'community care health plan', \"oregon's health co-op\", 'pharmaceutical product development', 'wellmark blue cross and blue shield of iowa              wellmark blue cross and blue shield', 'qcc insurance company', 'national pharmaceutical services', 'bader rutter', 'providence health plan', 'blue care network of michigan', 'hsa health insurance company', 'health plan of san joaquin joint powers authority', 'dencap dental plans', 'health net of arizona', 'union security insurance company', 'preferred health plan', 'blue cross & blue shield of mississippi', 'independent health association', 'the vermont health plan', 'tmi hospitality', 'healthspan integrated care', 'optumrx', 'blue cross blue shield of north dakota', 'paramount care', 'duval asphalt products', 'security health plan', 'horizon hmo', 'ffe rr test issuer m 518', 'delta dental of nebraska', 'unitedhealthcare of new york', 'baker boy bake shop', 'gms reinsurance company', 'nippon life insurance company of america', 'tufts insurance company', 'kirby corporation', 'meadow valley contractors', 'highmark', 'weight watchers intl', 'the dental concern', 'the options clearing corporation', 'protective life corporation', 'palmetto project', 'united teachers associates', 'western health advantage', 'wellmark health plan of iowa', 'neighborhood health plan', 'all savers life insurance company of california', 'family health hawaii mbs', 'liberty dental plan of florida', 'vorys group health plan', 'standard security life insurance company of new york', 'ffe rr test issuer m 511', 'pacificare life and health insurance', 'new era life insurance company', 'pacificare life assurance company', 'west virginia health cooperative', 'unitedhealthcare of north carolina', 'louisiana health cooperative', 'united food and commercial workers union local 227', 'dsm usa insurance company inc- oh', 'oregon dental service', 'neighborhood health plan of rhode island', 'first commonwealth limited health services corporation', 'sumitomo machinery corporation of america', 'principal life insurance company', 'national foundation life insurance company', 'unitedhealthcare of new england', 'mcs advantage', 'healthy alliance life insurance company', 'aegis security insurance company', 'dsm usa insurance company', 'new era life insurnace company', 'southern new jersey regional employee benefits fun', \"children's community health plan\", 'debbie gee', 'john a van den bosch', 'molina healthcare of california', 'healthplex insurance company', 'you first by el paso first health plans', 'preferred medical plan', 'medical services of america employee health benefit plan & trust', 'medmutual', 'lani eko & company', 'blue cross and blue shield of georgia', 'ash plans', 'group health cooperative', 'health net', 'mount auburn professional services', 'dentatrust /dentaspan', 'delta dental of arizona', 'texas guaranteed student loan corporation', 'insurance company of scott & white', 'ace property and casualty insurance company', 'unitedhealthcare of ohio', 'ambetter insured by celtic', 'employee benefit management corp', 'hcc life insurance company', 'davidson college', 'connecticare benefits', 'kings health brokerage', 'island home insurance company', 'b', 'blue cross and blue shield of montana', 'group health options', 'mid-west national life insurance company of tennessee', 'tenncare', 'freedom life insurance company of america', 'united healthcare life insurance company', 'nation care small group', 'american national insurance company', 'iheart media', 'enersys delaware', 'ryder health plan', 'health net insurance of new york', 'cigna healthcare of new york', 'american systems', 'nevada health co-op', 'zoom health plan', 'securian dental plans', 'wholesale', 'healthpartners administrators', 'united of omaha life insurance company', 'hi tech fasteners', 'doskocil manufacturing company', 'blue cross blue shield of arizona', 'national union fire insurance company of pittsburgh', 'investors life insurance company of north america', 'state farm mutual automobile insurance company', 'cgi test issuer', 'sendero health plans', 'american income life insurance', 'ace american insurance company', 'kaiser permanente insurance company', 'unitedhealthone', 'blue cross of idaho', 'southwest service life insurance company', 'ambetter from celticare health plan of ma', 'coordinated care of washington', 'blue shield of california', 'humana', 'horizon blue cross blue shield of new jersey', 'molina healthcare of washington', 'delta dental of wisconsin', 'moda health plan', 'ffe rr test issuer m 515', 'mastercraft boat company', 'chc of fl', 'healthfirst new york', 'united securty', 'city of lakeland', 'ffe rr test issuer m 513', 'ffe rr test issuer m 512', 'trillium community health plan', 'kelseycare advantage', 'florida combined life', 'ullico casualty company', 'sanford health plan', 'cigna healthcare of utah', 'cigna worldwide insurance company', 'humana health plan', 'aetna health insurance company', 'sun life and health insurance company', 'triple-s salud', 'renaissance health insurance company of new york', 'montefiore insurance company', 'morganite industries', 'matthew thornton health plan', 'piedmont hmo', 'sterling life insurance', 'security life insurance company of america', 'delta dental of kentucky', 'piedmont wellstar healthplans', 'sun life assurance company of canada', 'southern farm bureau life insurance company', 'premier access dental', 'cariten health plan', 'connecticut general life insurance', 'interface', 'md-individual practice assocation', 'advantage resourcing america', 'lifewise health plan of wa', 'mdwise marketplace', 'ccl industries corporation', 'alpha dental of arizona', 'delta dental of north carolina', 'christus health plan', 'unicare health plans of the midwest', 'pam duncan', 'delta dental of california', 'delta dental plan of michigan', 'pathoras corporation', 'medica health plans', 'delta dental of virginia', 'community health alliance', 'al warren oil', 'delta dental of oklahoma', 'ceridian', 'hawaii dental service corporation', 'texhealth el paso', 'bluegrass family health', 'kinder morgan', 'employers dental services', 'takecare insurance company', 'united states branch of the sun life assurance company of canada', 'saf-holland', 'siho insurance services', 'mitsubishi motors north america', 'caresource', 'ansaldo sts usa', 'cold spring granite company', 'managed health network', 'gundersen health plan', 'molina marketplace', 'daimler trucks north america', 'wellcare health insurance of kentucky', 'connecticare of massachusetts', 'transamerica life insurance company', 'health tradition health plan', 'andrew larsen', 'virginia premier health plan', 'valley baptist insurance company', 'wellmark blue cross blue shield of iowa', 'moda health', 'elderone', 'cencal health', 'priority health insurance company', 'eric martinek', 'fogo de chao', 'babcock power', 'westminster school', 'rocky mountain hmo', 'trex company', 'modine manufacturing', 'blue cross and blue shield of vermont', 'php insurance company', 'fallon health & life assurance company', 'health net of new york', 'united dairy', 'advantica dental benefits', 'blue cross and blue shield of alabama', 'starr indemnity & liability company', 'guardian life insurance company of america', 'aflac', 'm&t bank corporation', 'metropolitan school district of lawrence township', 'scott and white health plan', 'delta dental of washington', 'gtech corporation', 'allcare health plan', 'blue cross blue shield of wyoming', 'pacific union college', 'atrio health plans', 'kps health plans', 'healthyct', 'paramount advantage', 'unitedhealthcare community plan', 'unitedhealthcare life insurance company', 'optima health insurance company', 'united states fire insurance company', 'lifewise health plan of oregon', 'wellcare of new york', 'new era life insurance co of midwest', 'solstice health insurance company', 'cigna healthcare of pennsylvania', 'viva health', 'dental choice', 'healthspan', 'unicare health plans of texas', 'american general life and accident insurance company', 'blue cross and blue shield of nebraska', 'state farm mutual automobile ins', 'massachusetts institute of technology', 'moda health insurance', 'ambetter from superior healthplan', 'coventry health care of the carolinas', 'retiree welfare plan', 'unitedhealthcare of kentucky', 'arches health plan', 'angela storms', 'coventry health care of west virginia', 'mamsi  life and health insurance company', 'georgia health marketplace', 'ffe rr test issuer 692', 'qc life and health', 'wts international', 'wilton reassurance company', 'jack in the box', 'blue cross and blue shield of illinois', 'netcare life and health insurance company', 'anthem blue cross', 'niagara life and health insurance company', 'retired firefighters security benefit fund of the', 'blue cross blue shield of massachusetts', 'delta dental of plan of ohio', 'the peoples bank', 'metropolitan life insurance company', 'hartford life & accident insurance company', 'rocky mountain health plans', 'arkansas blue cross blue shield', 'ffe rr test issuer m 525', 'ffe rr test issuer m 527', 'ffe rr test issuer m 520', 'ffe rr test issuer m 521', 'perico life insurance company', 'ffe rr test issuer m 523', 'northwest orthopaedic specialists', 'ffe rr test issuer m 528', 'anthem health plans of kentucky', 'coventry health plan of florida', 'bluecross blueshield of western new york', 'reserve group management', 'hotel employees restaurant employees health trust', 'g6 hospitality', 'unicare health insurance company of the midwest', 'blue care', 'confederated tribes of siletz indians coho benefit', 'cgi test issuer ak', 'delta dental of illinois', 'fallon community health plan', 'the standard life insurance company of new york', 'evonik corporation', 'ffe issuer', 'coventry health care of virginia', 'mclaren health plan insurance company', 'stallings brothers', 'calcpa group insurance trust', 'network health', 'brilliance health', 'blue cross of northeastern pennsylvania', 'valueoptions of california', 'humana benefit plan of illinois', 'anthem health plans', 'consumers life insurance company', 'transamerica financial life insurance company', 'independent health benefits corporation', 'carepoint hmo', 'ffe rr test issuer m 500', 'florida health solution hmo company', 'lori latislaw', 'valley health plan', 'wellcare of kentucky', 'advantica', 'alpha dental of new mexi', 'coventry health and life', 'wcc family healthcare plan', 'delta dental of west virginia', 'cigna healthcare of mid-atlantic', 'access dental plan', 'chc of sc', 'metlife', 'coventry health care of texas', 'unicare health ins', 'cooportunity health', 'suzuki motor of america', 'chc of tn', 'atlas machine & supply', 'university of arizona health plans - university healthcare marketplace', 'metroplus health plan', 'pilkington north america', 'first allmerica financial life ins', 'regence blue shield of idaho', 'companion life insurance company of ny', 'elementis global', 'heartland technology group', 'dst systems', 'ffe rr test issuer 508', 'cigna', 'jps industries', 'boston medical center health plan', 'coventry health care of florida', 'loyal american life insurance company', \"queen's healthcare plan\", \"the children's hospital corporation\", 'cigna healthcare-pacific', 'willamette dental of washington', 'dentegra insurance company', 'seneca foods corporation', 'health net life insurance company', 'usd 512 shawnee mission school district', 'wps health insurance', 'medical benefits mutual life insurance', 'standard insurance company', 'samaritan health plans', 'healthassurance pa', 'optima health', 'j & m', 'myers industries', 'h&e equipment services', 'health plan of nevada', 'transamerica premier life insurance', 'asea/afscme local 52 health benefits trust', 'healthamerica pennsylvania', 'physicians benefits trust life insurance company', 'indiana university health plans', 'healthspring of tn', 'medical mutual', 'blueshield of northeastern new york', 'dental care plus', 'upmc health options', 'the mega life and health insurance company', 'johns manville', 'coventry health and life - tnarms', 'delta dental plan of wyoming', 'mamsi life and health insurance company', 'alameda alliance for health', 'partners human resource', 'healthnet of new jersey', 'dell issuer2', 'united  healthcare insurance company', 'bd of trustees patriot retirees veba', 'ash insurance', 'public service enterprise group incorporated', 'carefirst bluecross blueshield', 'qnova health', 'nhealth', 'hap', \"jack's family restaurants\", 'pacificsource health plans', 'cgi test company 1', 'physicians mutual', 'hometown health plan', 'health access pueblo', 'kaiser permenante', 'connecticare insurance company', 'security benefit fund of the uniformed firefighter', 'illinois mutual life insurance company', 'paramount care of michigan', 'curtis lumber company', 'philadelphia american life insurance company', 'abc auto parts ltd', 'upmc health plan', 'north american insurance', 'caid industries', 'prudential insurance company of america', 'performance', 'union labor life insurance company', 'mennonite general hospital', 'urban retail properties', 'inhealth mutual', 'dentaquest usa insurance company', 'dewberry', 'deseret mutual insurance company', 'empire healthchoice hmo', 'tokio marine pacific insurance limited', 'estes express lines', 'bankers life insurance company', 'the ohio national life insurance company', 'group health cooperative- scw', 'nippon life benefits', 'keystone health plan central', 'the goodyear tire & rubber company', 'santa clara family health plan', 'delta dental of rhode island', 'dentegrastar', 'bowlin group', 'sterling investors life insurance company', 'preferredone community health plan', 'cigna healthcare', 'cumulus media', 'delta dental of missouri', 'the united states life ins', 'tufts health freedom insurance company', 'www', 'unitedhealthcare insurance company of ohio', 'harken health', 'dentaquest mid-atlantic', 'kaiser permanente', 'bluecross blueshield of south carolina', 'generations healthcare', 'bluechoice healthplan', 'upstate new york engineers health plan', 'associated mutual insurance', 'delta dental of arkansas', 'superior dental care', 'delta dental of new jersey', 'premier health plan', 'humana benefit plan of ill', 'connecticut general life insurance company', 'hamilton company', 'lovelace insurance company', 'axa equitable life insurance company', 'delta dental of delaware', 'compcare health services insurance corporation', 'blue cross and blue shield of new mexi', 'engineered machined products', 'presbyterian health plan', 'blue cross and blue shield of nc', 'unitedhealthcare of texas', 'wellcare kentucky hmo', 'hartford life insurance company', 'renaissance life & health insurance company of america', 'meritus health partners', 'united american insurance', 'blue plus', 'axis insurance company', 'healthlink hmo', 'geisinger health plan', 'woodhouse ford', 'central united life insurance company', 'ameritas life insurance corp', 'dentcare delivery systems', 'pharmaceutical strategies group', 'first health life & health insurance', 'american medical security life ins', 'crystal run health plan', 'vanee foods company', 'teachers protective mutual life', 'california motor dealers employee bt', 'assurant health', 'amedisys', 'united health one', 'union pacific railroad employes health systems', 'arizona pipeline company', 'american underwriters life insurance company', 'new york life insurance', 'midwest rubber company', 'lincoln financial group', 'delta dental of minnesota', 'north jersey municipal employee benefit fund', 'alpha dental of alabama', 'trustmark insurance company', 'mercy health plans', 'advantica insurance company', 'nationcare small group', 'golden rule insurance company', 'florida blue hmo', 'cdphp', 'samba health benefit plan', 'mclaren health plan community', 'regence blueshield of idaho', 'mid-west national life insurance company of tennes', 'innovation health plan', 'humana insurance company', 'tufts associated health maintenance org', 'delta dental of south carolina', 'new mexico health connections', 'ffe rr test issuer m 687', 'php or physicians health plan', 'ambetter of arkansas', 'medical associates health plans', 'priority health', 'health net of connecticut', 'colorado healthop', 'colorado dental service', 'west penn allegheny health system', 'washington national insurance company', 'association mutual health insurance company', 'porex corporation', 'cigna health and life insurance company', 'union fidelity life insurance company', 'applied industrial technologies', 'ambetter from new hampshire healthy families', 'ambetter from buckeye health plan', 'premera blue cross blue shield of alaska', 'ffe rr test issuer 682', 'chc of nj', 'ffe rr test issuer 680', 'ffe rr test issuer 681', 'graphic arts benefit corporation', 'cgi prod test company 99', 'cook childrens health plan', 'sensient technologies corporation', 'united security life and health insurance company', 'general american life insurance company', 'healthplus of michigan', 'the ohio state life insurance company', 'wellaway limited', 'medica health plans of wisconsin', 'hbd industries', 'canyon insurance group', 'carolina care plan', 'thirty-one gifts', 'highmark benefits group', 'managed dental care of california', 'bcbsm', 'bridgespan health company', 'familycare health plans', 'nhic', 'ambetter from peach state health plan', 'southern mgmt corp', 'conair corporation', 'true textiles', 'first priority health', 'american general life insurance company', 'total health care', 'chc of nc', 'affiliated foods cooperative', 'delta dental of tennessee', 'prominence health plan', 'welborn health plans', 'national guardian life insurance company', 'idental from united concordia', 'nd banks benefit trust', 'crystal run health insurance company', 'asl', 'rush', 'affinity health plan', 'dentegra insurance company of new england', 'softheon', 'union bankers insurance company', 'dysart unified school district', \"warehousemen's health & welfare fund\", 'health first insurance', 'ambetter from coordinated care', 'momentum insurance plans', 'department of health and environment', 'blue cross blue shield of vermont', 'bcbsd', 'bic corporation', 'upmc health benefits', 'qcc ins company d/b/a amerihealth ins', 'gilliatt', 'yucaipa-calimesa joint unified school district', 'winstar farm', 'inovalon', 'pan-american life insurance company of puerto ri', 'teresa shaw', 'dominion dental services', 'healthspring of alabama', 'kaiser foundation health plan of mid-atlantic states', 'evergreen health cooperative', 'uva darden school foundation', 'philadelphia american life insurance', 'independence american ins', 'ambetter from superior health plan', 'medica insurance company', 'vaagen bros', 'american states insurance company', 'companion life insurance company', 'pacificsource health plans hmo', 'kansas city life insurance company', 'consumers mutual insurance of michigan', 'sur la table', 'as america', 'caresource just4me', 'prominence healthfirst', 'ffe rr test issuer 596', 'columbia united providers', 'emi health', 'bluecross and blue shield of north carolina', 'minuteman health', 'national guardian life insurance', 'healthplus partners', 'health partners of philadelphia', 'ucare minnesota', 'standard life and casualty insurance company', 'ffe rr test issuer 683', 'healthpartners', 'unitedhealthcare benefits plan of california', 'cmd health', 'protective life insurance company', 'silverton health', 'cgi test issuer - vi', 'cigna healthcare of maine', 'bcs insurance company', 'delta dental of kansas', 'allied national', 'enterprise life insurance company', 'dresser', 'bae systems', 'delta dental of the district of columbia', 'von maur', 'farmers investment', 'harken health insurance company', 'gf insurance', 'fort knox federal credit union', 'texhealth brazos valley', 'martin resource management corporation', 'michigan medchoices', 'healthfirst insurance company', 'jayco', 'truassure insurance company', 'tufts associated health maintenance organization', 'essence healthcare', 'vantage health plan', 'mesa industries', 'county of ventura', 'gfsi', 'trh health insurance company', 'slv health access dba carepoint', 'everence association', 'gemcare health plan', 'vsp vision care', 'hne', 'gundersen health plan minnesota', 'amalgamated life insurance company', 'communitycare of oklahoma', 'all states ag parts', 'aetna', 'asuris northwest health', 'wolverine health plans', 'u', 'capital senior living', 'humana insurance company of new york', 'avista corporation', 'bankers life and casualty', 'sc shps', 'cigna healthcare of indiana', 'humana insurance co of kentucky']\n"
     ]
    }
   ],
   "source": [
    "# Check names\n",
    "issuers_names_array = list(set(issuers['name_parsed']))\n",
    "print len(issuers_names_array)\n",
    "print issuers_names_array"
   ]
  },
  {
   "cell_type": "markdown",
   "metadata": {},
   "source": [
    "### Get images"
   ]
  },
  {
   "cell_type": "code",
   "execution_count": 13,
   "metadata": {
    "collapsed": true
   },
   "outputs": [],
   "source": [
    "def get_bing_images(query):\n",
    "    bing_endpoint = \"https://api.cognitive.microsoft.com/bing/v5.0/images/search\"\n",
    "    headers = {    \n",
    "        'Ocp-Apim-Subscription-Key': os.environ.get(\"MSFT_KEY\")\n",
    "    }\n",
    "    params = {\n",
    "        'q': query,\n",
    "        'count': '10',\n",
    "        'offset': '0',\n",
    "        'mkt': 'en-us',\n",
    "        'safeSearch': 'Moderate',\n",
    "    }\n",
    "    return requests.get(url = bing_endpoint, params = params, headers = headers)"
   ]
  },
  {
   "cell_type": "code",
   "execution_count": 44,
   "metadata": {
    "collapsed": true
   },
   "outputs": [],
   "source": [
    "def parse_response(response):\n",
    "    response_dict = response.json()\n",
    "    return [ hit['contentUrl'] for hit in response_dict['value'] ]        "
   ]
  },
  {
   "cell_type": "code",
   "execution_count": 83,
   "metadata": {
    "collapsed": true
   },
   "outputs": [],
   "source": [
    "def process_names(names_array, file_path):\n",
    "    with open(file_path, 'a') as f:\n",
    "        for name in names_array:\n",
    "            bing_response = get_bing_images(name + ' logo')\n",
    "            time.sleep(0.2)\n",
    "            f.write(json.dumps([name] + parse_response(bing_response)) + '\\n')"
   ]
  },
  {
   "cell_type": "markdown",
   "metadata": {},
   "source": [
    "#### Split Data Into Half "
   ]
  },
  {
   "cell_type": "code",
   "execution_count": 76,
   "metadata": {
    "collapsed": true
   },
   "outputs": [],
   "source": [
    "names_array = list(issuers_names_array)"
   ]
  },
  {
   "cell_type": "code",
   "execution_count": 77,
   "metadata": {
    "collapsed": false
   },
   "outputs": [
    {
     "data": {
      "text/plain": [
       "1309"
      ]
     },
     "execution_count": 77,
     "metadata": {},
     "output_type": "execute_result"
    }
   ],
   "source": [
    "len(names_array)"
   ]
  },
  {
   "cell_type": "code",
   "execution_count": 78,
   "metadata": {
    "collapsed": true
   },
   "outputs": [],
   "source": [
    "names_array_1, names_array_2 = names_array[:650], names_array[650:]"
   ]
  },
  {
   "cell_type": "markdown",
   "metadata": {},
   "source": [
    "#### Process First Half"
   ]
  },
  {
   "cell_type": "code",
   "execution_count": 96,
   "metadata": {
    "collapsed": true
   },
   "outputs": [],
   "source": [
    "process_names(names_array_1, \"image_results_1.txt\")"
   ]
  },
  {
   "cell_type": "code",
   "execution_count": 14,
   "metadata": {
    "collapsed": false,
    "scrolled": false
   },
   "outputs": [
    {
     "name": "stdout",
     "output_type": "stream",
     "text": [
      "[\"florida blue\", \"http://jacksonville.com/sites/default/files/FloridaBlue990.jpg\", \"http://www.infiniagroup.com/sites/default/files/Infinia_FloridaBlue_Logo.jpeg?1386971039\", \"http://jacksonville.com/sites/default/files/imagecache/superphoto/FloridaBlueLogo.jpg\", \"http://www.brandsoftheworld.com/sites/default/files/styles/logo-thumbnail/public/112012/florida_blue.png\", \"http://www.prestigeinsurancegrp.com/img/~www.prestigeinsurancegrp.com/florida_blue_Logo.jpg\", \"http://painmgmt.floridablue.com/sites/painmgmt/files/logo_FLB.png\", \"http://www.proplayerinsurancegroup.com/img/~www.Proplayerinsurancegroup.com/logo-florida-blue.jpg\", \"http://wochamber.com/images/uploads/trustee_logos/FLorida_Blue_Logo_-_For_Web.jpg\", \"http://a3.img.talkingpointsmemo.com/image/upload/c_fill,fl_keep_iptc,g_faces,h_365,w_652/blue-cross-and-blue-shield-of-florida-logo--2.jpg\", \"http://mountdoracenterforthearts.org/wp-content/uploads/2012/07/floridabcbs_logo.jpg\"]\r\n",
      "[\"thrivent financial for lutherans\", \"http://2.bp.blogspot.com/_DmtdGP6kzMQ/S7jkzluNHnI/AAAAAAAAN44/0tUqR9RpOBw/s1600/logo-ThriventFinancial.gif\", \"http://stmedia.startribune.com/images/ows_139389672729064.jpg\", \"http://ogpdn1wn2d93vut8u40tokx1dl7.wpengine.netdna-cdn.com/wp-content/uploads/2014/03/Thrvnt_H_4C_LG.jpeg\", \"http://1.bp.blogspot.com/-_KZnl3VHs4c/UyLuKKH1iSI/AAAAAAAAeis/5zFNLGF-phQ/s1600/Thrivent+Financial+logo+2014.png\", \"https://www.thrivent.com/images/logo_thrivent_home.gif\", \"http://www.grandforksherald.com/sites/default/files/styles/16x9_315/public/fieldimages/12/0116/thrivent-financial-lutherans-logo.jpg?itok=BIP1B2_v\", \"http://www.logotypes101.com/logos/757/2FD40374BE0222E16A4E90B5F0C6E5F7/thrivent.png\", \"http://s3.evcdn.com/images/edpborder500/I0-001/006/289/370-8.jpeg_/thrivent-financial-lutherans-2012-member-leader-s-70.jpeg\", \"http://www.lss-elca.org/Redesign/wp-content/uploads/Thrivent-Builds-Logo.jpg\", \"http://www.lhfmissions.org/image/4---resources-images/Thrivent2-logo.gif\"]\r\n",
      "[\"martin's point generations\", \"https://martinspoint.org/about-martins-point/~/media/Images/Martins%20Point/MP_logo_RGB_R_v1.jpg\", \"http://robbiefoundation.com/rf/wp-content/uploads/2013/06/partner-martins-point.jpg\", \"http://www.mainequalitycounts.org/image_upload/Martins%20Point%20HealthCare_logo_coated_CMYK_R.jpg\", \"http://rmbvivid.com/wp-content/uploads/2013/01/1_MartinsPt_logo-700x466.jpg\", \"http://www.trademarkia.com/logo-images/martins-point-health-care/martins-point-healthcare-85097203.jpg\", \"http://www.citbni.org.uk/getfile/8cdb9c32-823b-485f-ac18-42a635612771/H---J-MARTIN-LOGO-2011.aspx\", \"http://seeklogo.com/images/N/New_Generation_Point_of_Sale_Systems-logo-CEEC9084A8-seeklogo.com.gif\", \"http://pointsolutionsuk.com/wp-content/uploads/2015/06/MartinHouse-180x138.jpg\", \"http://www.stillpointfarmdressage.com/logo%20martin%20collins.gif\", \"http://www.pycomall.com/images/P1/Remy_Martin_Logo_26577.jpg\"]\r\n",
      "[\"nea ret health trust\", \"http://www.amh.org.uk/wp-content/uploads/2013/05/WesternTrustLogo_Colour.jpg\", \"http://www.singforyourlife.org.uk/sites/default/files_new/styles/partners_logo/public/links_images/gmw.gif\", \"http://www.enhancefitstudio.com/wp-content/uploads/2012/05/Logo.jpg\", \"http://862886595.r.lightningbase-cdn.com/wp-content/uploads/2015/08/Press-Release-Logo.jpg\", \"http://upload.wikimedia.org/wikipedia/commons/thumb/e/e5/Nhs_logo.png/220px-Nhs_logo.png\", \"https://www.universityparent.com/wp-content/uploads/2010/09/ads-central-bank.jpg\", \"http://www.health.qld.gov.au/pahospital/research/funding/docs/logo-parss.png\", \"http://upload.wikimedia.org/wikipedia/commons/8/83/South_London_and_Maudsley_NHS_Foundation_Trust_logo.jpg\", \"http://www.sexualhealthhounslow.org.uk/images/nhtw-logo-2015.jpg\", \"http://www.health.qld.gov.au/pahospital/research/funding/docs/logo-pptf.png\"]\r\n",
      "[\"premera blue cross\", \"http://www.wtae.com/image/view/-/31860568/medRes/2/-/maxh/460/maxw/620/-/f56xy9z/-/Premera-logo-jpg.jpg\", \"https://www.kintera.org/AccountTempFiles/account2773/images/100by85premera_logo.jpg\", \"http://assets.nydailynews.com/polopoly_fs/1.2153753.1426693306!/img/httpImage/image.jpg_gen/derivatives/article_related_video_thumbs_170_13/premera-logo.jpg\", \"https://pbs.twimg.com/profile_images/461229740704010240/D3kiySO4_400x400.png\", \"http://www.trademarkia.com/logo-images/premera-blue-cross/lifewise-liberty-78560941.jpg\", \"http://www.kingcountyhealthcarecoalition.org/media/premera-blue-cross.png\", \"https://payments.bankofamerica.com/epaybill/images/imagesPremeraBlueCross/premera_logo_526047.gif\", \"https://www.premeralawsuit.com/wp-content/uploads/prem_logo@2x.png\", \"http://www.distilnfo.com/payer/files/2013/09/7914premera_logo.jpg\", \"http://snocohealth.org/wp-content/uploads/2013/11/coalition_logo.png\"]\r\n",
      "[\"dsm usa insurance company- il\", \"http://floridahie-eval.fiu.edu/DSM/SiteAssets/Pages/default/DSM_logo.jpg\", \"http://r1.forconstructionpros.com/files/base/image/FCP/2009/07/16x9/1280x720/dsmdesotechinc_10076422.jpg\", \"http://upload.wikimedia.org/wikipedia/en/thumb/a/a1/Bankers_Life_Logo.png/180px-Bankers_Life_Logo.png\", \"https://lh3.googleusercontent.com/-bywVmNnJjpY/TW-_9ZRGk1I/AAAAAAAAAqw/stbGJO2TSl4/s320/allstate-auto-insurance-logo.jpg\", \"https://upload.wikimedia.org/wikipedia/en/thumb/b/b1/ShelterInsuranceLogo.jpg/90px-ShelterInsuranceLogo.jpg\", \"http://www.insurancelevel.com/company/logo/Erie.jpg\", \"https://www.naphia.org/wp-content/uploads/2013/11/member_iaic.png\", \"http://img4.wikia.nocookie.net/__cb20110305054411/logopedia/images/d/d4/DSM_-_New.jpg\", \"http://upload.wikimedia.org/wikipedia/de/thumb/8/81/Logo_State_Farm.svg/130px-Logo_State_Farm.svg.png\", \"http://www.protitleusa.com/images/AuctionLogo.jpg\"]\r\n",
      "[\"allegiance life & health insurance company\", \"http://www.albersinsagency.com/wp-content/uploads/2011/02/insurance-logos.jpg\", \"http://www.swansonwithyou.com/images/insurance_logos.gif\", \"http://lisamaddalenand.com/wp-content/uploads/2015/02/TELUS-HEALTH-INSURANCE-LOGO-BLUECROSSGREENSHIELD.png\", \"http://www.chooseterm.com/wp-content/uploads/2012/11/life-insurance-logos-vert.png\", \"http://bovairdinsurance.com/bovaird-insurance-logos.png\", \"http://www.policyx.com/news/wp-content/uploads/2014/11/2667_Bajaj-Allianz-logo.jpg\", \"http://ezhome-insurance.com/images/insurance_logos.jpg\", \"http://www.seniorguidepost.org/images/logo_sheet.jpg\", \"http://www.ranklogos.com/wp-content/uploads/2012/04/India-first-lifeInsurance-logo.jpg\", \"http://www.stymeistautobody.com/content/images/pages/insurance/insurance_logos.jpg\"]\r\n",
      "[\"guarantee trust life insurance\", \"http://www.refugeinsurance.com/images/GTL%20logo.jpg\", \"http://rosenthalfinancialservices.com/_imagez/logo_gtl.gif\", \"http://www.schwartzquincy.com/images/logos/GTL.jpg\", \"http://www.gtlic.com/images/FinalGTLLogo.jpg\", \"http://www.pinneyinsurance.com/images/logos/carrier/Fidelity-Guaranty.gif\", \"https://whyaim.com/wp-content/uploads/2013/04/gtl-logo.png\", \"http://money-advisor.co.uk/images/logos.gif\", \"http://www.53gpi.com/images/Kaiser_logo.gif\", \"http://www.thenationaltriallawyers.org/wp-content/uploads/2014/11/shutterstock_143702590-copy.jpg\", \"http://zolmax.com/logos/fidelity-amp;-guaranty-life-logo.png\"]\r\n",
      "[\"american medical security life insurance company\", \"http://medicareinsurancetexas.com/inc/images/logo-sentinel-life.jpg\", \"https://yourfloridainsurancequotes.com/wp-content/uploads/2013/06/American-Vehicle-logo.jpg\", \"http://www.immediateannuities.com/images/logos-insco/security-benefit.jpg\", \"http://www.insurancelevel.com/company/logo/assurant-specialty.jpg\", \"https://www.burbankcity.org/media/5245/AIL_Logo.jpg\", \"http://www.ranklogos.com/wp-content/uploads/2012/04/AIL-logo.png\", \"https://d1li5256ypm7oi.cloudfront.net/theerisalawgroup/2015/02/logo_american-united-life.jpg\", \"http://www.gsportsinsurance.com/wp-content/uploads/2013/02/GreatAmerican.png\", \"http://www.ranklogos.com/wp-content/uploads/2012/04/Foresters-Logo.jpg\", \"http://www.ranklogos.com/wp-content/uploads/2012/04/Jackson-National-Life-Insurance-Company-Logo.gif\"]\r\n",
      "[\"north shore-lij insurance company\", \"http://emgenesisinsurance.com/wp-content/uploads/2014/11/logo1.png\", \"https://www.northshorelij.com/sites/default/themes/custom/nslij3/fullpage/img/logo_8.jpg\", \"http://mb.cision.com/Public/11740/9830168/860bdb77a22b00bc_org.jpg\", \"https://keyholesoftware.com/wp-content/uploads/nslij_logo.png\", \"http://www.northshorelijivf.com/wp-content/themes/responsive/images/northshore-logo.jpg\", \"http://www.trademarkia.com/services/logo.ashx?sid=85529917\", \"https://www.northshorelij.com/sites/default/files/behavioral%20health/news/careconnect%20logo_7.jpg\", \"http://www.orthobalancept.com/files/insurance/LOGO-OXFORD-HEALTH.jpg\", \"http://www.orthobalancept.com/files/insurance/LOGO-WELLCARE.jpg\", \"http://photos.prnewswire.com/prnvar/20131023/CG03088LOGO?max=400\"]\r\n"
     ]
    }
   ],
   "source": [
    "!head -n 10 image_results_1.txt"
   ]
  },
  {
   "cell_type": "markdown",
   "metadata": {},
   "source": [
    "#### Process second half"
   ]
  },
  {
   "cell_type": "code",
   "execution_count": 100,
   "metadata": {
    "collapsed": true
   },
   "outputs": [],
   "source": [
    "process_names(names_array_2, \"image_results_2.txt\")"
   ]
  },
  {
   "cell_type": "code",
   "execution_count": 15,
   "metadata": {
    "collapsed": false,
    "scrolled": false
   },
   "outputs": [
    {
     "name": "stdout",
     "output_type": "stream",
     "text": [
      "[\"protective life corporation\", \"http://bloximages.newyork1.vip.townnews.com/stltoday.com/content/tncms/assets/v3/editorial/0/c2/0c216363-5a62-5e32-a893-8c4302ea46c2/538fd48c023cd.preview-620.jpg\", \"http://upload.wikimedia.org/wikipedia/en/2/24/Protectivelifelogo2.png\", \"http://newsroom.protective.com/sites/protective.newshq.businesswire.com/files/logo/image/Corp_Tag_Color.jpg\", \"http://slaughtergroup.com/files/8113/4642/2146/protective_brandmarks_02.jpg\", \"https://www.redrockinsurancegroup.com/images/carriers/life/14_protective.gif\", \"https://fbcdn-profile-a.akamaihd.net/hprofile-ak-xpa1/v/t1.0-1/c3.0.160.160/p160x160/1256526_10151867927416458_1725804594_n.jpg?oh=605e4374524ca8cf73fc49a39e6e8840&oe=563AE5F3&__gda__=1447590169_bc683001005f4e8912f59a10dc0b0e0e\", \"http://www.trademarkia.com/logo-images/protective-life-insurance-company/inflation-shield-85501976.jpg\", \"http://upload.wikimedia.org/wikipedia/en/thumb/4/45/UIL_stacked_logo.JPG/200px-UIL_stacked_logo.JPG\", \"http://logosandbrands.directory/wp-content/themes/directorypress/thumbs/Mercury-General-Corporation-logo.jpg\", \"http://www.rvbusiness.com/wp-content/uploads/2009/04/protective-life-insurance-logo.gif\"]\r\n",
      "[\"palmetto project\", \"http://www.premierphysicaltherapy.us/assets/images/palmetto_project_logo.png\", \"http://palmettoproject.org/wp-content/uploads/2015/08/BeginWithBooks-Logo.png\", \"http://signupsc.palmettoproject.org/wp-content/uploads/2014/11/signup-new-logo-smaller1.png\", \"http://myfirstbooks.palmettoproject.org/wp-content/uploads/2015/05/MFBlogotransparent4.png\", \"http://www.palmettovocalproject.com/system/files/logo_BHS.png\", \"http://www.historiccolumbia.org/Media/Default/Partner%20Logos/Palmetto%20Heath%20total%20joint.jpg\", \"http://www.cartagenarealty.com/mapa/SectorTuristico/palmettosunset/logo.jpg\", \"http://s3images.coroflot.com/user_files/individual_files/429713_ZvWBUipZkuaXLptg6O3p2kjoB.jpg\", \"http://barbarastroud.files.wordpress.com/2011/10/fhf_logo1.png\", \"https://www.palmettohealthfoundation.org/App_Themes/Palmetto_Foundation/images/Palmetto-Health-homepage-logo-white.png\"]\r\n",
      "[\"united teachers associates\", \"http://utaic.com/Portals/5/UTA_PMS_logo.png\", \"http://upload.wikimedia.org/wikipedia/en/thumb/9/97/UFT_Logo.svg/150px-UFT_Logo.svg.png\", \"http://www.waata.asn.au/images/waata%20sponsors%202014/united%20voice%20logo.jpg\", \"http://locals.nysut.org/carthage/logoboldedit.gif\", \"http://www.montessoriforeveryone.com/assets/images/UMA_logo.gif\", \"https://upload.wikimedia.org/wikipedia/en/d/df/Voice_union_logo.png\", \"http://www.tumbledancecheerproductions.com/images/260_US_20SwimAssoc_logo.JPG\", \"http://usgtf.com/wp-content/uploads/2012/07/usgtf-circle-logo1.png\", \"https://upload.wikimedia.org/wikipedia/en/thumb/1/1b/Journalism_Education_Association_logo.jpg/300px-Journalism_Education_Association_logo.jpg\", \"http://upload.wikimedia.org/wikipedia/en/5/51/ATL_union_logo.png\"]\r\n",
      "[\"western health advantage\", \"http://sacramento.drexel.edu/~/media/Images/sacramento/logos/western_health_advantage.ashx?w=223&h=150&as=1\", \"http://media.merchantcircle.com/5526339/WHA_Banner_logo_Vert_rgb_sm_full.jpeg\", \"https://static.ehealthinsurance.com/ehealthinsurance/CarrierProfile/logos/90950197.png\", \"http://www.medicoverage.com/provider_logos/western-health-advantage.png\", \"http://onepointhcm.com/Websites/onepoint/images/Logos/Western_Health_Advantage.jpeg\", \"https://westernhealthadvantage.files.wordpress.com/2013/01/walk-a-mile-wha-logo_cs4.jpg\", \"https://westernhealthadvantage.files.wordpress.com/2011/12/premieraccesslogo.jpg?w=300&h=188\", \"http://westernhealthadvantage.files.wordpress.com/2014/07/healthcare_rgb.jpg\", \"http://ww1.prweb.com/prfiles/2016/05/24/13441433/gI_61534_Infogix-Logo-Tagline-CMYK.png\", \"https://westernhealthadvantage.files.wordpress.com/2016/04/largelogo1.jpg\"]\r\n",
      "[\"wellmark health plan of iowa\", \"http://bloximages.chicago2.vip.townnews.com/wcfcourier.com/content/tncms/assets/v3/editorial/d/df/ddf64bf2-603f-11e2-8e0b-0019bb2963f4/50f74adea1b0a.preview-620.jpg\", \"http://a4.mzstatic.com/us/r30/Purple2/v4/e5/7b/d1/e57bd11f-7174-6c86-8d4e-abb903788e90/mzl.evmlmiru.jpg\", \"http://www.trademarkia.com/logo-images/blue-cross-and-blue-shield-association/fep-blue-dental-78750190.jpg\", \"http://www.gannett-cdn.com/-mm-/0063d82917703f8b60bb16736ac3e55f52ebb4b7/c=381-145-638-487&r=183&c=0-0-180-238/local/-/media/2015/08/10/IAGroup/IowaCity/635748155411613281-blue365.jpg\", \"http://searsinsurance.info/wp-content/uploads/2014/11/Logos.jpg\", \"http://www.iowahealthieststate.com/wp-content/themes/naked/css/images/Meridian%20Health%20Plan%20Logo.jpeg\", \"http://www.federationofiowainsurers.com/documents/filelibrary/ia_blue_dis_F3BEBD0A4075D.jpg\", \"http://www.wellmarkfoundationcommunitykickstarter.com/wp-content/themes/wellmark/assets/img/logo.png\", \"http://www.gannett-cdn.com/-mm-/6314f2d82766db90d0aea9b22e1059c3cefb7108/c=628-222-905-592&r=183&c=0-0-180-238/local/-/media/2015/08/10/IAGroup/DesMoines/635748140252840110-myWellmark.jpg\", \"http://www.kimmelbenefits.com/images/logo_regence_blueshield.jpg\"]\r\n",
      "[\"neighborhood health plan\", \"http://www.partners.org/Assets/images/About-Us/Media-Center/NHP.jpg\", \"http://afterschoolri.org/wp-content/uploads/2010/09/Neighborhood-Health-Plan-of-RI.jpg\", \"http://www.nspaincare.com/insurance/gifs/logo_health_net_plan.jpg\", \"http://mile7.com/wp-content/uploads/2014/05/Neighborhood-Health-Plan-Logo.png\", \"https://www.mahealthconnector.org/wp-content/uploads/neighborhood_health_plan_logo.png\", \"http://www.nhpri.org/Portals/0/Uploads/Images/NHPRI-4color.jpg\", \"https://media.licdn.com/mpr/mpr/shrinknp_200_200/AAEAAQAAAAAAAARGAAAAJDczMDRjNGNlLWNlNWQtNDc0ZC05ODczLWE2MzhlMDgyMzRjYQ.png\", \"http://www.nspaincare.com/insurance/gifs/logo_tufts.jpg\", \"http://img.docstoccdn.com/thumb/orig/111659730.png\", \"https://secure.healthx.com/filestore/%7Bd6e2ac5b-5889-41af-af46-8b3bef755b51%7D/CMS/Branding/NHPRI_logo.jpg\"]\r\n",
      "[\"all savers life insurance company of california\", \"https://myallsaversmember.com/filestore/%7B7151ca57-92be-41aa-8557-b09de24ee5dc%7D/CMS/Graphics/logo_member.png\", \"http://www.insurancelevel.com/company/logo/explorer-insurance.gif\", \"http://www.insurancelevel.com/company/logo/icw-group1.gif\", \"http://www.insurancelevel.com/company/logo/california-casualty.png\", \"http://www.insurancelevel.com/company/logo/balboa-insurance.gif\", \"http://www.insurancelevel.com/company/logo/victoria%20insurance.png\", \"http://www.nextdoorchiro.com/images/Insurance-Logos.jpg\", \"http://www.insurancewebsitebuilder.com/img/~www.securenetinsurance.com/HealthLife/Carrier%20Logos/Blue%20Cross%20of%20CA.jpg\", \"http://www.insurancelevel.com/company/logo/WestCoastLife.jpg\", \"http://3.bp.blogspot.com/_xp7Li07Bi7k/TBFgpsJJ51I/AAAAAAAAAI0/Upo8nAFxzd8/s1600/NewYorkLife_128%5B1%5D.jpg\"]\r\n",
      "[\"family health hawaii mbs\", \"http://www2.jabsom.hawaii.edu/FamilyMedicine/JABSOM_Seal_2.gif\", \"http://www2.jabsom.hawaii.edu/FamilyMedicine/UH_logo_color%5B1%5D.JPG\", \"https://www.chicagofamilyhealth.org/wp-content/uploads/2015/09/MB-Financial-Bank-logo.jpg\", \"http://www2.jabsom.hawaii.edu/FamilyMedicine/JABSOM%20Logo.png\", \"http://upload.wikimedia.org/wikipedia/en/8/8f/Straub_Clinic_and_Hospital_Logo.jpg\", \"http://www.cwwiebemedical.ca/wp-content/uploads/2013/12/mb-logo.png\", \"http://health.hawaii.gov/cshcn/files/2013/05/HCCH-logo.gif\", \"http://health.hawaii.gov/asthma/files/2015/02/HAI_logo_new.png\", \"http://wanderlustandlipstick.com/wp-content/uploads/2012/07/Big-Island-Logo.jpg\", \"http://www.hawaii.edu/dyson/Medical-Home-logo.jpg\"]\r\n",
      "[\"liberty dental plan of florida\", \"http://www.fahp.net/assets/images/AssocLogos/liberty%20dental%20plan%20-%20logo.jpg\", \"https://www.libertydentalplan.com/Resources/Image/AdultCare-logo.png\", \"http://www.zeroonezero.com/medical/images/F-logo-liberty-program.gif\", \"http://www.libertydentalplan.com/i/nv-logo.jpg\", \"https://www.libertydentalplan.com/Resources/Image/staywell%20logo.png\", \"https://www.libertydentalplan.com/Resources/Image/KidCare-logo.png\", \"https://www.libertydentalplan.com/Resources/Image/evergreen-logo.jpg\", \"https://www.libertydentalplan.com/Resources/Image/HEDIS_COMPLIANCE_AUDIT_2015.jpg\", \"http://sweetsmilesdentistry.com/wp-content/uploads/2012/10/liberty.jpg\", \"http://www.libertydentalplan.com/IEHP/img/logo-2.jpg\"]\r\n",
      "[\"vorys group health plan\", \"http://www.healthplansny.com/wp-content/uploads/2013/07/logo1.jpg\", \"http://rdgins.com/Site/396976512/Images/Logo/1726898559.jpg\", \"https://nonprofitpurchasinggroup.org/SmallLogoImages/SimplicityHealthPlanslg1.jpg\", \"http://www.lwfinancial.com/_images/partners/UnitedHealth_Group_Logo.jpg\", \"http://www.trademarkia.com/logo-images/wellcare-management-group/harmony-health-plan-77232155.jpg\", \"http://www.capitalhealth.com/var/site/storage/images/media/images/pgchp-logo/273402-2-eng-US/PGCHP-Logo_large.png\", \"http://media.merchantcircle.com/5889520/bestlife_logo_facebook_full.jpeg\", \"http://www.communityplans.net/portals/0/Vendors/NFP%20Health_logo.jpg\", \"http://impactfinancialstrategies.com/wp-content/uploads/2013/06/impact_logo_png.png\", \"http://healthechoices.com/images/HeC_Website_Logo_Header_A9.jpg\"]\r\n"
     ]
    }
   ],
   "source": [
    "!head \"image_results_2.txt\""
   ]
  },
  {
   "cell_type": "markdown",
   "metadata": {},
   "source": [
    "### Merge back into original df"
   ]
  },
  {
   "cell_type": "code",
   "execution_count": 102,
   "metadata": {
    "collapsed": true
   },
   "outputs": [],
   "source": [
    "!cat image_results* > image_results_total.txt"
   ]
  },
  {
   "cell_type": "code",
   "execution_count": 103,
   "metadata": {
    "collapsed": false
   },
   "outputs": [
    {
     "name": "stdout",
     "output_type": "stream",
     "text": [
      "    1309 image_results_total.txt\r\n"
     ]
    }
   ],
   "source": [
    "!wc -l image_results_total.txt"
   ]
  },
  {
   "cell_type": "code",
   "execution_count": 104,
   "metadata": {
    "collapsed": true
   },
   "outputs": [],
   "source": [
    "def read_image_urls(file_path):\n",
    "    url_array = []\n",
    "    with open(file_path, 'r') as f:\n",
    "        for line in f:\n",
    "            url_array.append(json.loads(line.strip()))\n",
    "    # Turn into dataframe\n",
    "    column_names = ['name_parsed'] + ['image_url_' + str(i+1) for i in range(10)]    \n",
    "    return pd.DataFrame(url_array, columns = column_names)"
   ]
  },
  {
   "cell_type": "code",
   "execution_count": 105,
   "metadata": {
    "collapsed": true
   },
   "outputs": [],
   "source": [
    "df_image_urls = read_image_urls(\"image_results_total.txt\")"
   ]
  },
  {
   "cell_type": "code",
   "execution_count": 106,
   "metadata": {
    "collapsed": false
   },
   "outputs": [
    {
     "data": {
      "text/html": [
       "<div>\n",
       "<table border=\"1\" class=\"dataframe\">\n",
       "  <thead>\n",
       "    <tr style=\"text-align: right;\">\n",
       "      <th></th>\n",
       "      <th>name_parsed</th>\n",
       "      <th>image_url_1</th>\n",
       "      <th>image_url_2</th>\n",
       "      <th>image_url_3</th>\n",
       "      <th>image_url_4</th>\n",
       "      <th>image_url_5</th>\n",
       "      <th>image_url_6</th>\n",
       "      <th>image_url_7</th>\n",
       "      <th>image_url_8</th>\n",
       "      <th>image_url_9</th>\n",
       "      <th>image_url_10</th>\n",
       "    </tr>\n",
       "  </thead>\n",
       "  <tbody>\n",
       "    <tr>\n",
       "      <th>0</th>\n",
       "      <td>florida blue</td>\n",
       "      <td>http://jacksonville.com/sites/default/files/Fl...</td>\n",
       "      <td>http://www.infiniagroup.com/sites/default/file...</td>\n",
       "      <td>http://jacksonville.com/sites/default/files/im...</td>\n",
       "      <td>http://www.brandsoftheworld.com/sites/default/...</td>\n",
       "      <td>http://www.prestigeinsurancegrp.com/img/~www.p...</td>\n",
       "      <td>http://painmgmt.floridablue.com/sites/painmgmt...</td>\n",
       "      <td>http://www.proplayerinsurancegroup.com/img/~ww...</td>\n",
       "      <td>http://wochamber.com/images/uploads/trustee_lo...</td>\n",
       "      <td>http://a3.img.talkingpointsmemo.com/image/uplo...</td>\n",
       "      <td>http://mountdoracenterforthearts.org/wp-conten...</td>\n",
       "    </tr>\n",
       "    <tr>\n",
       "      <th>1</th>\n",
       "      <td>thrivent financial for lutherans</td>\n",
       "      <td>http://2.bp.blogspot.com/_DmtdGP6kzMQ/S7jkzluN...</td>\n",
       "      <td>http://stmedia.startribune.com/images/ows_1393...</td>\n",
       "      <td>http://ogpdn1wn2d93vut8u40tokx1dl7.wpengine.ne...</td>\n",
       "      <td>http://1.bp.blogspot.com/-_KZnl3VHs4c/UyLuKKH1...</td>\n",
       "      <td>https://www.thrivent.com/images/logo_thrivent_...</td>\n",
       "      <td>http://www.grandforksherald.com/sites/default/...</td>\n",
       "      <td>http://www.logotypes101.com/logos/757/2FD40374...</td>\n",
       "      <td>http://s3.evcdn.com/images/edpborder500/I0-001...</td>\n",
       "      <td>http://www.lss-elca.org/Redesign/wp-content/up...</td>\n",
       "      <td>http://www.lhfmissions.org/image/4---resources...</td>\n",
       "    </tr>\n",
       "    <tr>\n",
       "      <th>2</th>\n",
       "      <td>martin's point generations</td>\n",
       "      <td>https://martinspoint.org/about-martins-point/~...</td>\n",
       "      <td>http://robbiefoundation.com/rf/wp-content/uplo...</td>\n",
       "      <td>http://www.mainequalitycounts.org/image_upload...</td>\n",
       "      <td>http://rmbvivid.com/wp-content/uploads/2013/01...</td>\n",
       "      <td>http://www.trademarkia.com/logo-images/martins...</td>\n",
       "      <td>http://www.citbni.org.uk/getfile/8cdb9c32-823b...</td>\n",
       "      <td>http://seeklogo.com/images/N/New_Generation_Po...</td>\n",
       "      <td>http://pointsolutionsuk.com/wp-content/uploads...</td>\n",
       "      <td>http://www.stillpointfarmdressage.com/logo%20m...</td>\n",
       "      <td>http://www.pycomall.com/images/P1/Remy_Martin_...</td>\n",
       "    </tr>\n",
       "    <tr>\n",
       "      <th>3</th>\n",
       "      <td>nea ret health trust</td>\n",
       "      <td>http://www.amh.org.uk/wp-content/uploads/2013/...</td>\n",
       "      <td>http://www.singforyourlife.org.uk/sites/defaul...</td>\n",
       "      <td>http://www.enhancefitstudio.com/wp-content/upl...</td>\n",
       "      <td>http://862886595.r.lightningbase-cdn.com/wp-co...</td>\n",
       "      <td>http://upload.wikimedia.org/wikipedia/commons/...</td>\n",
       "      <td>https://www.universityparent.com/wp-content/up...</td>\n",
       "      <td>http://www.health.qld.gov.au/pahospital/resear...</td>\n",
       "      <td>http://upload.wikimedia.org/wikipedia/commons/...</td>\n",
       "      <td>http://www.sexualhealthhounslow.org.uk/images/...</td>\n",
       "      <td>http://www.health.qld.gov.au/pahospital/resear...</td>\n",
       "    </tr>\n",
       "    <tr>\n",
       "      <th>4</th>\n",
       "      <td>premera blue cross</td>\n",
       "      <td>http://www.wtae.com/image/view/-/31860568/medR...</td>\n",
       "      <td>https://www.kintera.org/AccountTempFiles/accou...</td>\n",
       "      <td>http://assets.nydailynews.com/polopoly_fs/1.21...</td>\n",
       "      <td>https://pbs.twimg.com/profile_images/461229740...</td>\n",
       "      <td>http://www.trademarkia.com/logo-images/premera...</td>\n",
       "      <td>http://www.kingcountyhealthcarecoalition.org/m...</td>\n",
       "      <td>https://payments.bankofamerica.com/epaybill/im...</td>\n",
       "      <td>https://www.premeralawsuit.com/wp-content/uplo...</td>\n",
       "      <td>http://www.distilnfo.com/payer/files/2013/09/7...</td>\n",
       "      <td>http://snocohealth.org/wp-content/uploads/2013...</td>\n",
       "    </tr>\n",
       "  </tbody>\n",
       "</table>\n",
       "</div>"
      ],
      "text/plain": [
       "                        name_parsed  \\\n",
       "0                      florida blue   \n",
       "1  thrivent financial for lutherans   \n",
       "2        martin's point generations   \n",
       "3              nea ret health trust   \n",
       "4                premera blue cross   \n",
       "\n",
       "                                         image_url_1  \\\n",
       "0  http://jacksonville.com/sites/default/files/Fl...   \n",
       "1  http://2.bp.blogspot.com/_DmtdGP6kzMQ/S7jkzluN...   \n",
       "2  https://martinspoint.org/about-martins-point/~...   \n",
       "3  http://www.amh.org.uk/wp-content/uploads/2013/...   \n",
       "4  http://www.wtae.com/image/view/-/31860568/medR...   \n",
       "\n",
       "                                         image_url_2  \\\n",
       "0  http://www.infiniagroup.com/sites/default/file...   \n",
       "1  http://stmedia.startribune.com/images/ows_1393...   \n",
       "2  http://robbiefoundation.com/rf/wp-content/uplo...   \n",
       "3  http://www.singforyourlife.org.uk/sites/defaul...   \n",
       "4  https://www.kintera.org/AccountTempFiles/accou...   \n",
       "\n",
       "                                         image_url_3  \\\n",
       "0  http://jacksonville.com/sites/default/files/im...   \n",
       "1  http://ogpdn1wn2d93vut8u40tokx1dl7.wpengine.ne...   \n",
       "2  http://www.mainequalitycounts.org/image_upload...   \n",
       "3  http://www.enhancefitstudio.com/wp-content/upl...   \n",
       "4  http://assets.nydailynews.com/polopoly_fs/1.21...   \n",
       "\n",
       "                                         image_url_4  \\\n",
       "0  http://www.brandsoftheworld.com/sites/default/...   \n",
       "1  http://1.bp.blogspot.com/-_KZnl3VHs4c/UyLuKKH1...   \n",
       "2  http://rmbvivid.com/wp-content/uploads/2013/01...   \n",
       "3  http://862886595.r.lightningbase-cdn.com/wp-co...   \n",
       "4  https://pbs.twimg.com/profile_images/461229740...   \n",
       "\n",
       "                                         image_url_5  \\\n",
       "0  http://www.prestigeinsurancegrp.com/img/~www.p...   \n",
       "1  https://www.thrivent.com/images/logo_thrivent_...   \n",
       "2  http://www.trademarkia.com/logo-images/martins...   \n",
       "3  http://upload.wikimedia.org/wikipedia/commons/...   \n",
       "4  http://www.trademarkia.com/logo-images/premera...   \n",
       "\n",
       "                                         image_url_6  \\\n",
       "0  http://painmgmt.floridablue.com/sites/painmgmt...   \n",
       "1  http://www.grandforksherald.com/sites/default/...   \n",
       "2  http://www.citbni.org.uk/getfile/8cdb9c32-823b...   \n",
       "3  https://www.universityparent.com/wp-content/up...   \n",
       "4  http://www.kingcountyhealthcarecoalition.org/m...   \n",
       "\n",
       "                                         image_url_7  \\\n",
       "0  http://www.proplayerinsurancegroup.com/img/~ww...   \n",
       "1  http://www.logotypes101.com/logos/757/2FD40374...   \n",
       "2  http://seeklogo.com/images/N/New_Generation_Po...   \n",
       "3  http://www.health.qld.gov.au/pahospital/resear...   \n",
       "4  https://payments.bankofamerica.com/epaybill/im...   \n",
       "\n",
       "                                         image_url_8  \\\n",
       "0  http://wochamber.com/images/uploads/trustee_lo...   \n",
       "1  http://s3.evcdn.com/images/edpborder500/I0-001...   \n",
       "2  http://pointsolutionsuk.com/wp-content/uploads...   \n",
       "3  http://upload.wikimedia.org/wikipedia/commons/...   \n",
       "4  https://www.premeralawsuit.com/wp-content/uplo...   \n",
       "\n",
       "                                         image_url_9  \\\n",
       "0  http://a3.img.talkingpointsmemo.com/image/uplo...   \n",
       "1  http://www.lss-elca.org/Redesign/wp-content/up...   \n",
       "2  http://www.stillpointfarmdressage.com/logo%20m...   \n",
       "3  http://www.sexualhealthhounslow.org.uk/images/...   \n",
       "4  http://www.distilnfo.com/payer/files/2013/09/7...   \n",
       "\n",
       "                                        image_url_10  \n",
       "0  http://mountdoracenterforthearts.org/wp-conten...  \n",
       "1  http://www.lhfmissions.org/image/4---resources...  \n",
       "2  http://www.pycomall.com/images/P1/Remy_Martin_...  \n",
       "3  http://www.health.qld.gov.au/pahospital/resear...  \n",
       "4  http://snocohealth.org/wp-content/uploads/2013...  "
      ]
     },
     "execution_count": 106,
     "metadata": {},
     "output_type": "execute_result"
    }
   ],
   "source": [
    "df_image_urls.head()"
   ]
  },
  {
   "cell_type": "code",
   "execution_count": 108,
   "metadata": {
    "collapsed": false
   },
   "outputs": [],
   "source": [
    "issuers_merged = issuers.merge(df_image_urls, how='left', on='name_parsed')"
   ]
  },
  {
   "cell_type": "code",
   "execution_count": 109,
   "metadata": {
    "collapsed": false
   },
   "outputs": [
    {
     "data": {
      "text/html": [
       "<div>\n",
       "<table border=\"1\" class=\"dataframe\">\n",
       "  <thead>\n",
       "    <tr style=\"text-align: right;\">\n",
       "      <th></th>\n",
       "      <th>HIOS_ISSUER_ID</th>\n",
       "      <th>ISSR_LGL_NAME</th>\n",
       "      <th>MarketingName</th>\n",
       "      <th>State</th>\n",
       "      <th>IndividualMarket</th>\n",
       "      <th>SmallGroupMarket</th>\n",
       "      <th>UnknownMarket</th>\n",
       "      <th>LargeMarket</th>\n",
       "      <th>FEDERAL_EIN</th>\n",
       "      <th>Active</th>\n",
       "      <th>...</th>\n",
       "      <th>image_url_1</th>\n",
       "      <th>image_url_2</th>\n",
       "      <th>image_url_3</th>\n",
       "      <th>image_url_4</th>\n",
       "      <th>image_url_5</th>\n",
       "      <th>image_url_6</th>\n",
       "      <th>image_url_7</th>\n",
       "      <th>image_url_8</th>\n",
       "      <th>image_url_9</th>\n",
       "      <th>image_url_10</th>\n",
       "    </tr>\n",
       "  </thead>\n",
       "  <tbody>\n",
       "    <tr>\n",
       "      <th>0</th>\n",
       "      <td>97624</td>\n",
       "      <td>PreferredOne Community Health Plan</td>\n",
       "      <td>NaN</td>\n",
       "      <td>MN</td>\n",
       "      <td>YES</td>\n",
       "      <td>YES</td>\n",
       "      <td>NO</td>\n",
       "      <td>NO</td>\n",
       "      <td>411796007.0</td>\n",
       "      <td>YES</td>\n",
       "      <td>...</td>\n",
       "      <td>http://mncm.org/wp-content/uploads/2013/04/Pre...</td>\n",
       "      <td>http://www.health.state.mn.us/divs/hpsc/mcs/pr...</td>\n",
       "      <td>http://img.docstoccdn.com/thumb/orig/58158416.png</td>\n",
       "      <td>http://www.vvhc.org/images/chp-logo.gif</td>\n",
       "      <td>http://chpw.org/images/CHPW_logos/Healthfirst-...</td>\n",
       "      <td>http://vnacolorado.org/wp-content/uploads/2015...</td>\n",
       "      <td>http://healthnutsmedia.com/wp-content/uploads/...</td>\n",
       "      <td>http://www.communityplans.net/portals/0/Vendor...</td>\n",
       "      <td>http://www.lincolnhealthbuddy.co.uk/wp-content...</td>\n",
       "      <td>http://www.returningveterans.org/sites/default...</td>\n",
       "    </tr>\n",
       "    <tr>\n",
       "      <th>1</th>\n",
       "      <td>88102</td>\n",
       "      <td>PreferredOne Insurance Company</td>\n",
       "      <td>NaN</td>\n",
       "      <td>MN</td>\n",
       "      <td>YES</td>\n",
       "      <td>YES</td>\n",
       "      <td>NO</td>\n",
       "      <td>NO</td>\n",
       "      <td>810625135.0</td>\n",
       "      <td>YES</td>\n",
       "      <td>...</td>\n",
       "      <td>https://static.ehealthinsurance.com/ehealthins...</td>\n",
       "      <td>http://www.mnhealthinsurance.com/images/logos/...</td>\n",
       "      <td>http://www.mnhealthinsuranceagency.com/wp-cont...</td>\n",
       "      <td>http://www.healthinsurance-quotes.org/images/l...</td>\n",
       "      <td>https://m1.behance.net/rendition/modules/88593...</td>\n",
       "      <td>http://www.beckagencyinc.com/images/norwegianl...</td>\n",
       "      <td>http://m1.behance.net/rendition/modules/882654...</td>\n",
       "      <td>http://m1.behance.net/rendition/modules/882654...</td>\n",
       "      <td>http://m1.behance.net/rendition/modules/882654...</td>\n",
       "      <td>https://mnhealthnetwork.com/images/MagnumLogo_...</td>\n",
       "    </tr>\n",
       "    <tr>\n",
       "      <th>2</th>\n",
       "      <td>21580</td>\n",
       "      <td>nHealth, Inc.</td>\n",
       "      <td>NaN</td>\n",
       "      <td>VA</td>\n",
       "      <td>NO</td>\n",
       "      <td>YES</td>\n",
       "      <td>NO</td>\n",
       "      <td>NO</td>\n",
       "      <td>760827573.0</td>\n",
       "      <td>YES</td>\n",
       "      <td>...</td>\n",
       "      <td>http://mega.startupweekend.org/files/2011/09/h...</td>\n",
       "      <td>http://www.ranklogos.com/wp-content/uploads/20...</td>\n",
       "      <td>http://www.ranklogos.com/wp-content/uploads/20...</td>\n",
       "      <td>http://www.ranklogos.com/wp-content/uploads/20...</td>\n",
       "      <td>http://www.ranklogos.com/wp-content/uploads/20...</td>\n",
       "      <td>http://2.bp.blogspot.com/-tOGcbF4LiNU/T6tr41Re...</td>\n",
       "      <td>http://www.ranklogos.com/wp-content/uploads/20...</td>\n",
       "      <td>http://ranklogos.com/wp-content/uploads/2012/0...</td>\n",
       "      <td>http://www.ranklogos.com/wp-content/uploads/20...</td>\n",
       "      <td>http://www.liebermanresearch.com/images/logos_...</td>\n",
       "    </tr>\n",
       "    <tr>\n",
       "      <th>3</th>\n",
       "      <td>18196</td>\n",
       "      <td>Trilogy Health Insurance, Inc.</td>\n",
       "      <td>NaN</td>\n",
       "      <td>WI</td>\n",
       "      <td>NO</td>\n",
       "      <td>YES</td>\n",
       "      <td>NO</td>\n",
       "      <td>NO</td>\n",
       "      <td>205330218.0</td>\n",
       "      <td>YES</td>\n",
       "      <td>...</td>\n",
       "      <td>http://www.trilogyfs.com/App_Themes/Trilogy/im...</td>\n",
       "      <td>http://cdn2.hubspot.net/hub/29383/file-2477044...</td>\n",
       "      <td>http://www.trilogygroupbenefits.com/files/Imag...</td>\n",
       "      <td>http://www.commongroundwi.org/wp-content/uploa...</td>\n",
       "      <td>http://media.merchantcircle.com/41103543/Trilo...</td>\n",
       "      <td>http://www.davidraefp.com/files/24519/trilogy%...</td>\n",
       "      <td>http://www.theljbgroup.com/Content/Trilogy%20L...</td>\n",
       "      <td>http://www.viainsurance.com/Portals/29383/imag...</td>\n",
       "      <td>http://www.localfirstaz.com/aalogos/240wide/68...</td>\n",
       "      <td>http://www.viainsurance.com/Portals/29383/imag...</td>\n",
       "    </tr>\n",
       "    <tr>\n",
       "      <th>4</th>\n",
       "      <td>47342</td>\n",
       "      <td>Health Tradition Health Plan</td>\n",
       "      <td>Health Tradition Health Plan</td>\n",
       "      <td>WI</td>\n",
       "      <td>YES</td>\n",
       "      <td>YES</td>\n",
       "      <td>NO</td>\n",
       "      <td>NO</td>\n",
       "      <td>391545987.0</td>\n",
       "      <td>YES</td>\n",
       "      <td>...</td>\n",
       "      <td>http://medigapandyou.com/wp-content/plugins/ma...</td>\n",
       "      <td>http://www.express-press-release.net/74/logo/s...</td>\n",
       "      <td>http://medigapandyou.com/wp-content/plugins/ma...</td>\n",
       "      <td>http://ruralhc.net/media/ruralhcfactor360com/u...</td>\n",
       "      <td>http://www.myplanportal.com/ebusiness/assets/i...</td>\n",
       "      <td>http://iuhealth.cloudapp.net/images/site-image...</td>\n",
       "      <td>http://www.fitchburgchamber.com/wp-content/the...</td>\n",
       "      <td>http://www.infusionresource.com/media/tufts-he...</td>\n",
       "      <td>http://www.texaschildrenshealthplan.org/skinin...</td>\n",
       "      <td>http://cf.juggle-images.com/matte/white/280x28...</td>\n",
       "    </tr>\n",
       "  </tbody>\n",
       "</table>\n",
       "<p>5 rows × 31 columns</p>\n",
       "</div>"
      ],
      "text/plain": [
       "   HIOS_ISSUER_ID                       ISSR_LGL_NAME  \\\n",
       "0           97624  PreferredOne Community Health Plan   \n",
       "1           88102      PreferredOne Insurance Company   \n",
       "2           21580                       nHealth, Inc.   \n",
       "3           18196      Trilogy Health Insurance, Inc.   \n",
       "4           47342        Health Tradition Health Plan   \n",
       "\n",
       "                  MarketingName State IndividualMarket SmallGroupMarket  \\\n",
       "0                           NaN    MN              YES              YES   \n",
       "1                           NaN    MN              YES              YES   \n",
       "2                           NaN    VA               NO              YES   \n",
       "3                           NaN    WI               NO              YES   \n",
       "4  Health Tradition Health Plan    WI              YES              YES   \n",
       "\n",
       "  UnknownMarket LargeMarket  FEDERAL_EIN Active  \\\n",
       "0            NO          NO  411796007.0    YES   \n",
       "1            NO          NO  810625135.0    YES   \n",
       "2            NO          NO  760827573.0    YES   \n",
       "3            NO          NO  205330218.0    YES   \n",
       "4            NO          NO  391545987.0    YES   \n",
       "\n",
       "                         ...                          \\\n",
       "0                        ...                           \n",
       "1                        ...                           \n",
       "2                        ...                           \n",
       "3                        ...                           \n",
       "4                        ...                           \n",
       "\n",
       "                                         image_url_1  \\\n",
       "0  http://mncm.org/wp-content/uploads/2013/04/Pre...   \n",
       "1  https://static.ehealthinsurance.com/ehealthins...   \n",
       "2  http://mega.startupweekend.org/files/2011/09/h...   \n",
       "3  http://www.trilogyfs.com/App_Themes/Trilogy/im...   \n",
       "4  http://medigapandyou.com/wp-content/plugins/ma...   \n",
       "\n",
       "                                         image_url_2  \\\n",
       "0  http://www.health.state.mn.us/divs/hpsc/mcs/pr...   \n",
       "1  http://www.mnhealthinsurance.com/images/logos/...   \n",
       "2  http://www.ranklogos.com/wp-content/uploads/20...   \n",
       "3  http://cdn2.hubspot.net/hub/29383/file-2477044...   \n",
       "4  http://www.express-press-release.net/74/logo/s...   \n",
       "\n",
       "                                         image_url_3  \\\n",
       "0  http://img.docstoccdn.com/thumb/orig/58158416.png   \n",
       "1  http://www.mnhealthinsuranceagency.com/wp-cont...   \n",
       "2  http://www.ranklogos.com/wp-content/uploads/20...   \n",
       "3  http://www.trilogygroupbenefits.com/files/Imag...   \n",
       "4  http://medigapandyou.com/wp-content/plugins/ma...   \n",
       "\n",
       "                                         image_url_4  \\\n",
       "0            http://www.vvhc.org/images/chp-logo.gif   \n",
       "1  http://www.healthinsurance-quotes.org/images/l...   \n",
       "2  http://www.ranklogos.com/wp-content/uploads/20...   \n",
       "3  http://www.commongroundwi.org/wp-content/uploa...   \n",
       "4  http://ruralhc.net/media/ruralhcfactor360com/u...   \n",
       "\n",
       "                                         image_url_5  \\\n",
       "0  http://chpw.org/images/CHPW_logos/Healthfirst-...   \n",
       "1  https://m1.behance.net/rendition/modules/88593...   \n",
       "2  http://www.ranklogos.com/wp-content/uploads/20...   \n",
       "3  http://media.merchantcircle.com/41103543/Trilo...   \n",
       "4  http://www.myplanportal.com/ebusiness/assets/i...   \n",
       "\n",
       "                                         image_url_6  \\\n",
       "0  http://vnacolorado.org/wp-content/uploads/2015...   \n",
       "1  http://www.beckagencyinc.com/images/norwegianl...   \n",
       "2  http://2.bp.blogspot.com/-tOGcbF4LiNU/T6tr41Re...   \n",
       "3  http://www.davidraefp.com/files/24519/trilogy%...   \n",
       "4  http://iuhealth.cloudapp.net/images/site-image...   \n",
       "\n",
       "                                         image_url_7  \\\n",
       "0  http://healthnutsmedia.com/wp-content/uploads/...   \n",
       "1  http://m1.behance.net/rendition/modules/882654...   \n",
       "2  http://www.ranklogos.com/wp-content/uploads/20...   \n",
       "3  http://www.theljbgroup.com/Content/Trilogy%20L...   \n",
       "4  http://www.fitchburgchamber.com/wp-content/the...   \n",
       "\n",
       "                                         image_url_8  \\\n",
       "0  http://www.communityplans.net/portals/0/Vendor...   \n",
       "1  http://m1.behance.net/rendition/modules/882654...   \n",
       "2  http://ranklogos.com/wp-content/uploads/2012/0...   \n",
       "3  http://www.viainsurance.com/Portals/29383/imag...   \n",
       "4  http://www.infusionresource.com/media/tufts-he...   \n",
       "\n",
       "                                         image_url_9  \\\n",
       "0  http://www.lincolnhealthbuddy.co.uk/wp-content...   \n",
       "1  http://m1.behance.net/rendition/modules/882654...   \n",
       "2  http://www.ranklogos.com/wp-content/uploads/20...   \n",
       "3  http://www.localfirstaz.com/aalogos/240wide/68...   \n",
       "4  http://www.texaschildrenshealthplan.org/skinin...   \n",
       "\n",
       "                                        image_url_10  \n",
       "0  http://www.returningveterans.org/sites/default...  \n",
       "1  https://mnhealthnetwork.com/images/MagnumLogo_...  \n",
       "2  http://www.liebermanresearch.com/images/logos_...  \n",
       "3  http://www.viainsurance.com/Portals/29383/imag...  \n",
       "4  http://cf.juggle-images.com/matte/white/280x28...  \n",
       "\n",
       "[5 rows x 31 columns]"
      ]
     },
     "execution_count": 109,
     "metadata": {},
     "output_type": "execute_result"
    }
   ],
   "source": [
    "issuers_merged.head()"
   ]
  },
  {
   "cell_type": "code",
   "execution_count": 117,
   "metadata": {
    "collapsed": false
   },
   "outputs": [],
   "source": [
    "issuers_merged.to_csv(\"issuers_image_urls.csv\", index = False, encoding = 'utf-8')"
   ]
  },
  {
   "cell_type": "code",
   "execution_count": 2,
   "metadata": {
    "collapsed": true
   },
   "outputs": [],
   "source": [
    "### Take image_url_1 column"
   ]
  },
  {
   "cell_type": "code",
   "execution_count": 2,
   "metadata": {
    "collapsed": true
   },
   "outputs": [],
   "source": [
    "df = pd.read_csv(\"issuers_image_urls.csv\")"
   ]
  },
  {
   "cell_type": "code",
   "execution_count": 3,
   "metadata": {
    "collapsed": true
   },
   "outputs": [],
   "source": [
    "logos = df.loc[:, ['HIOS_ISSUER_ID', 'ISSR_LGL_NAME', 'MarketingName', 'State', 'image_url_1']].groupby('HIOS_ISSUER_ID').first()"
   ]
  },
  {
   "cell_type": "code",
   "execution_count": 4,
   "metadata": {
    "collapsed": false,
    "scrolled": true
   },
   "outputs": [
    {
     "data": {
      "text/html": [
       "<div>\n",
       "<table border=\"1\" class=\"dataframe\">\n",
       "  <thead>\n",
       "    <tr style=\"text-align: right;\">\n",
       "      <th></th>\n",
       "      <th>ISSR_LGL_NAME</th>\n",
       "      <th>MarketingName</th>\n",
       "      <th>State</th>\n",
       "      <th>image_url_1</th>\n",
       "    </tr>\n",
       "    <tr>\n",
       "      <th>HIOS_ISSUER_ID</th>\n",
       "      <th></th>\n",
       "      <th></th>\n",
       "      <th></th>\n",
       "      <th></th>\n",
       "    </tr>\n",
       "  </thead>\n",
       "  <tbody>\n",
       "    <tr>\n",
       "      <th>10011</th>\n",
       "      <td>Southern Farm Bureau Life Insurance Company</td>\n",
       "      <td>NaN</td>\n",
       "      <td>TX</td>\n",
       "      <td>http://www.insurancelevel.com/company/logo/far...</td>\n",
       "    </tr>\n",
       "    <tr>\n",
       "      <th>10018</th>\n",
       "      <td>Unified Life Insurance Company</td>\n",
       "      <td>NaN</td>\n",
       "      <td>SC</td>\n",
       "      <td>http://www.texaskidsfirst.com/images/ULIC-Logo...</td>\n",
       "    </tr>\n",
       "    <tr>\n",
       "      <th>10029</th>\n",
       "      <td>American National Life Insurance Company of Texas</td>\n",
       "      <td>NaN</td>\n",
       "      <td>MD</td>\n",
       "      <td>http://www.moodyinsurancegroup.com/wp-content/...</td>\n",
       "    </tr>\n",
       "    <tr>\n",
       "      <th>10046</th>\n",
       "      <td>BEST Life and Health Insurance Company</td>\n",
       "      <td>BEST Life</td>\n",
       "      <td>HI</td>\n",
       "      <td>http://hersheys.newslinevine.com/images/full/b...</td>\n",
       "    </tr>\n",
       "    <tr>\n",
       "      <th>10047</th>\n",
       "      <td>GTECH Corporatopn</td>\n",
       "      <td>GTECH Corporation</td>\n",
       "      <td>RI</td>\n",
       "      <td>http://caribbeanresumes.com/files/imagecache/e...</td>\n",
       "    </tr>\n",
       "  </tbody>\n",
       "</table>\n",
       "</div>"
      ],
      "text/plain": [
       "                                                    ISSR_LGL_NAME  \\\n",
       "HIOS_ISSUER_ID                                                      \n",
       "10011                 Southern Farm Bureau Life Insurance Company   \n",
       "10018                              Unified Life Insurance Company   \n",
       "10029           American National Life Insurance Company of Texas   \n",
       "10046                      BEST Life and Health Insurance Company   \n",
       "10047                                           GTECH Corporatopn   \n",
       "\n",
       "                    MarketingName State  \\\n",
       "HIOS_ISSUER_ID                            \n",
       "10011                         NaN    TX   \n",
       "10018                         NaN    SC   \n",
       "10029                         NaN    MD   \n",
       "10046                   BEST Life    HI   \n",
       "10047           GTECH Corporation    RI   \n",
       "\n",
       "                                                      image_url_1  \n",
       "HIOS_ISSUER_ID                                                     \n",
       "10011           http://www.insurancelevel.com/company/logo/far...  \n",
       "10018           http://www.texaskidsfirst.com/images/ULIC-Logo...  \n",
       "10029           http://www.moodyinsurancegroup.com/wp-content/...  \n",
       "10046           http://hersheys.newslinevine.com/images/full/b...  \n",
       "10047           http://caribbeanresumes.com/files/imagecache/e...  "
      ]
     },
     "execution_count": 4,
     "metadata": {},
     "output_type": "execute_result"
    }
   ],
   "source": [
    "logos.head()"
   ]
  },
  {
   "cell_type": "code",
   "execution_count": 5,
   "metadata": {
    "collapsed": true
   },
   "outputs": [],
   "source": [
    "logos.to_csv(\"issuers_logos.csv\", index = True, encoding = 'utf-8')"
   ]
  }
 ],
 "metadata": {
  "anaconda-cloud": {},
  "kernelspec": {
   "display_name": "Python [Root]",
   "language": "python",
   "name": "Python [Root]"
  },
  "language_info": {
   "codemirror_mode": {
    "name": "ipython",
    "version": 2
   },
   "file_extension": ".py",
   "mimetype": "text/x-python",
   "name": "python",
   "nbconvert_exporter": "python",
   "pygments_lexer": "ipython2",
   "version": "2.7.12"
  }
 },
 "nbformat": 4,
 "nbformat_minor": 0
}
